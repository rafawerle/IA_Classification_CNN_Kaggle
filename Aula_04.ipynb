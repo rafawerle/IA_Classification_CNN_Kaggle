{
  "nbformat": 4,
  "nbformat_minor": 0,
  "metadata": {
    "colab": {
      "name": "Aula 04 - respostas.ipynb",
      "provenance": [],
      "collapsed_sections": [],
      "toc_visible": true
    },
    "kernelspec": {
      "name": "python3",
      "display_name": "Python 3"
    }
  },
  "cells": [
    {
      "cell_type": "markdown",
      "metadata": {
        "id": "KlcibMKA_a-j"
      },
      "source": [
        "# Aula 4 - Busca competitiva\n",
        "\n",
        "Neste notebook, implementaremos um jogo simples e o algoritmo Alpha-Beta Pruning para resolver o mesmo. O objetivo aqui é entender como este algoritmo funciona. Ao final, você deverá realizar os exercícios propostos.\n",
        "\n",
        " Para começar, seguem abaixo algumas definições iniciais."
      ]
    },
    {
      "cell_type": "code",
      "metadata": {
        "id": "d-xSseqiBtC6"
      },
      "source": [
        "import numpy as np\n",
        "import random\n",
        "from collections import namedtuple\n",
        "from google.colab import output\n",
        "import time"
      ],
      "execution_count": null,
      "outputs": []
    },
    {
      "cell_type": "markdown",
      "metadata": {
        "id": "72dcigVyXgxi"
      },
      "source": [
        "Inicialmente, criaremos uma classe genérica para jogos com `n` jogadores com movimentos alternados. Note que esta classe é parecida com a definição de problemas que vimos antes. A diferença é que agora precisamos definir uma utilidade para cada estado e também um teste de estado final; anteriormente, tínhamos o custo de um caminho e um teste de objetivo. Para criar um novo jogo, basta criar uma subclasse de `Game` e implementar os métodos `actions`, `result`, `utility` e `terminal_test`. As funções `display` e `to_move` podem ser sobrescritas, se necessário, por suas correspondentes específicas ao problema. Ao criar a subclasse, é necessário ainda definir o estado inicial `self.initial` no construtor da classe."
      ]
    },
    {
      "cell_type": "code",
      "metadata": {
        "id": "PnzYoE-K_qfP"
      },
      "source": [
        "class Game:\n",
        "    \n",
        "    def actions(self, state):\n",
        "        \"\"\"Return a list of the allowable moves at this point.\"\"\"\n",
        "        raise NotImplementedError\n",
        "\n",
        "    def result(self, state, move):\n",
        "        \"\"\"Return the state that results from making a move from a state.\"\"\"\n",
        "        raise NotImplementedError\n",
        "\n",
        "    def utility(self, state, player):\n",
        "        \"\"\"Return the value of this final state to player.\"\"\"\n",
        "        raise NotImplementedError\n",
        "\n",
        "    def terminal_test(self, state):\n",
        "        \"\"\"Return True if this is a final state for the game.\"\"\"\n",
        "        return not self.actions(state)\n",
        "\n",
        "    def to_move(self, state):\n",
        "        \"\"\"Return the player whose move it is in this state.\"\"\"\n",
        "        return state.to_move\n",
        "\n",
        "    def display(self, state):\n",
        "        \"\"\"Print or otherwise display the state.\"\"\"\n",
        "        print(state)\n",
        "        \n",
        "    def __repr__(self):\n",
        "        return '<{}>'.format(self.__class__.__name__)\n",
        "\n",
        "    def play_game(self, *players, animate=True):\n",
        "        \"\"\"Play an n-person, move-alternating game.\"\"\"\n",
        "        state = self.initial\n",
        "        while True:\n",
        "            for player in players:\n",
        "                move = player(self, state)\n",
        "                state = self.result(state, move)\n",
        "                if animate:\n",
        "                  self.display(state)\n",
        "                if self.terminal_test(state):\n",
        "                    if not animate:\n",
        "                      self.display(state)\n",
        "                    return self.utility(state, self.to_move(self.initial))"
      ],
      "execution_count": null,
      "outputs": []
    },
    {
      "cell_type": "markdown",
      "metadata": {
        "id": "od2oYP5GZsZQ"
      },
      "source": [
        "Agora, vamos criar uma classe para o jogo da velha (Tic-Tac-Toe). O construtor recebe três argumentos. Os argumentos `h` e `v` denotam a largura e altura do tabuleiro. O argumento `k` denota o número de peças que devem ser alinhadas para se ganhar o jogo. Note, portanto, que esta é uma implementação genérica, permitindo não apenas tabuleiros de 3x3. Em nossa implementação, o primeiro jogador utiliza X e o segundo utiliza O."
      ]
    },
    {
      "cell_type": "code",
      "metadata": {
        "id": "AzGbAUtmBWdB"
      },
      "source": [
        "# state representation as tuple, where 'to_move' denotes who moves next, 'utility' \n",
        "# denotes the utility of the current board state, 'board' denotes the state utility, \n",
        "# and 'moves' denotes which movements are possible from current state\n",
        "GameState = namedtuple('GameState', 'to_move, utility, board, moves')\n",
        "\n",
        "# game class\n",
        "class TicTacToe(Game):\n",
        "    \"\"\"Play TicTacToe on an h x v board, with Max (first player) playing 'X'.\n",
        "    A state has the player to move, a cached utility, a list of moves in\n",
        "    the form of a list of (x, y) positions, and a board, in the form of\n",
        "    a dict of {(x, y): Player} entries, where Player is 'X' or 'O'.\"\"\"\n",
        "\n",
        "    def __init__(self, h=3, v=3, k=3):\n",
        "        self.h = h\n",
        "        self.v = v\n",
        "        self.k = k\n",
        "        moves = [(x, y) for x in range(1, h + 1)\n",
        "                 for y in range(1, v + 1)]\n",
        "        self.initial = GameState(to_move='X', utility=0, board={}, moves=moves)\n",
        "\n",
        "    def actions(self, state):\n",
        "        \"\"\"Legal moves are any square not yet taken.\"\"\"\n",
        "        return state.moves\n",
        "\n",
        "    def result(self, state, move):\n",
        "        if move not in state.moves:\n",
        "            return state  # Illegal move has no effect\n",
        "        board = state.board.copy()\n",
        "        board[move] = state.to_move\n",
        "        moves = list(state.moves)\n",
        "        moves.remove(move)\n",
        "        return GameState(to_move=('O' if state.to_move == 'X' else 'X'),\n",
        "                         utility=self.compute_utility(board, move, state.to_move),\n",
        "                         board=board, moves=moves)\n",
        "\n",
        "    def utility(self, state, player):\n",
        "        \"\"\"Return the value to player; 1 for win, -1 for loss, 0 otherwise.\"\"\"\n",
        "        return state.utility if player == 'X' else -state.utility\n",
        "\n",
        "    def terminal_test(self, state):\n",
        "        \"\"\"A state is terminal if it is won or there are no empty squares.\"\"\"\n",
        "        return state.utility != 0 or len(state.moves) == 0\n",
        "\n",
        "    def display(self, state):\n",
        "        string = ''\n",
        "        board = state.board\n",
        "        for x in range(1, self.h + 1):\n",
        "            for y in range(1, self.v + 1):\n",
        "                string += ' ' + board.get((x, y), '.') + ' '\n",
        "                if y != self.v:\n",
        "                  string += '|'\n",
        "            string += '\\n'\n",
        "            if x != self.h:\n",
        "              string += '-'*(self.v*4-1) + '\\n'\n",
        "        output.clear()\n",
        "        print(string, flush=True)\n",
        "        time.sleep(1)\n",
        "\n",
        "    def compute_utility(self, board, move, player):\n",
        "        \"\"\"If 'X' wins with this move, return 1; if 'O' wins return -1; else return 0.\"\"\"\n",
        "        if (self.k_in_row(board, move, player, (0, 1)) or\n",
        "                self.k_in_row(board, move, player, (1, 0)) or\n",
        "                self.k_in_row(board, move, player, (1, -1)) or\n",
        "                self.k_in_row(board, move, player, (1, 1))):\n",
        "            return +1 if player == 'X' else -1\n",
        "        else:\n",
        "            return 0\n",
        "\n",
        "    def k_in_row(self, board, move, player, delta_x_y):\n",
        "        \"\"\"Return true if there is a line through move on board for player.\"\"\"\n",
        "        (delta_x, delta_y) = delta_x_y\n",
        "        x, y = move\n",
        "        n = 0  # n is number of moves in row\n",
        "        while board.get((x, y)) == player:\n",
        "            n += 1\n",
        "            x, y = x + delta_x, y + delta_y\n",
        "        x, y = move\n",
        "        while board.get((x, y)) == player:\n",
        "            n += 1\n",
        "            x, y = x - delta_x, y - delta_y\n",
        "        n -= 1  # Because we counted move itself twice\n",
        "        return n >= self.k"
      ],
      "execution_count": null,
      "outputs": []
    },
    {
      "cell_type": "markdown",
      "metadata": {
        "id": "CpPSPYl_hB-4"
      },
      "source": [
        "Para criar uma instância do jogo, basta fazer como segue."
      ]
    },
    {
      "cell_type": "code",
      "metadata": {
        "id": "LUFyRe_WhI9h"
      },
      "source": [
        "ttt = TicTacToe()\n",
        "\n",
        "# print the initial state board\n",
        "ttt.display(ttt.initial)"
      ],
      "execution_count": null,
      "outputs": []
    },
    {
      "cell_type": "markdown",
      "metadata": {
        "id": "8inR_ljVhKhk"
      },
      "source": [
        "Agora podemos criar os jogadores. Nosso primeiro jogador é bem simples, jogando de forma totalmente aleatória independente do estado atual. Naturalmente, apenas ações possíveis são escolhidas. "
      ]
    },
    {
      "cell_type": "code",
      "metadata": {
        "id": "BsyczkRehZgH"
      },
      "source": [
        "def random_player(game, state):\n",
        "    return random.choice(game.actions(state)) if game.actions(state) else None"
      ],
      "execution_count": null,
      "outputs": []
    },
    {
      "cell_type": "markdown",
      "metadata": {
        "id": "F2lkUfB-hZrU"
      },
      "source": [
        "Nosso segundo jogador utiliza o algoritmo Alpha-Beta Pruning. Para tal, o jogador recebe um estado e explora toda a árvore do jogo a partir dali (com exceção daquelas porções que são podadas). "
      ]
    },
    {
      "cell_type": "code",
      "metadata": {
        "id": "J7vROUyVCk5h"
      },
      "source": [
        "def alpha_beta_player(game, state):\n",
        "    return alpha_beta_search(state, game)\n",
        "\n",
        "def alpha_beta_search(state, game):\n",
        "    \n",
        "    player = game.to_move(state)\n",
        "\n",
        "    # Functions used by alpha_beta\n",
        "    def max_value(state, alpha, beta):\n",
        "        if game.terminal_test(state):\n",
        "            return game.utility(state, player)\n",
        "        v = -np.inf\n",
        "        for a in game.actions(state):\n",
        "            v = max(v, min_value(game.result(state, a), alpha, beta))\n",
        "            if v >= beta:\n",
        "                return v\n",
        "            alpha = max(alpha, v)\n",
        "        return v\n",
        "\n",
        "    def min_value(state, alpha, beta):\n",
        "        if game.terminal_test(state):\n",
        "            return game.utility(state, player)\n",
        "        v = np.inf\n",
        "        for a in game.actions(state):\n",
        "            v = min(v, max_value(game.result(state, a), alpha, beta))\n",
        "            if v <= alpha:\n",
        "                return v\n",
        "            beta = min(beta, v)\n",
        "        return v\n",
        "\n",
        "    # Body of alpha_beta_search:\n",
        "    best_score = -np.inf\n",
        "    beta = np.inf\n",
        "    best_action = None\n",
        "    for a in game.actions(state):\n",
        "        v = min_value(game.result(state, a), best_score, beta)\n",
        "        if v > best_score:\n",
        "            best_score = v\n",
        "            best_action = a\n",
        "    return best_action"
      ],
      "execution_count": null,
      "outputs": []
    },
    {
      "cell_type": "markdown",
      "metadata": {
        "id": "03k9uBRRiGy2"
      },
      "source": [
        "Finalmente, podemos iniciar o jogo. Para tal, basta executar a função `play_game` da nossa instância de `TicTacToe`. A função retorna a utilidade final sob a perspectiva do jogador 1. \n",
        "\n",
        "Neste primeiro teste, vamos colocar dois jogadores aleatórios para competir."
      ]
    },
    {
      "cell_type": "code",
      "metadata": {
        "id": "usJbLpHvicEL"
      },
      "source": [
        "result = ttt.play_game(random_player, random_player)\n",
        "winner = {1: 'Player 1', 0: 'Draw', -1: 'Player 2'}\n",
        "print('Result: %d' % result)\n",
        "print('Winner: %s' % winner[result])"
      ],
      "execution_count": null,
      "outputs": []
    },
    {
      "cell_type": "markdown",
      "metadata": {
        "id": "k442ZvDiicSr"
      },
      "source": [
        "Note que, como os jogadores são aleatórios, o resultado do jogo varia de uma execução para outra. Para testar, rode o código acima mais de uma vez e compare os resultados.\n",
        "\n",
        "Agora, vamos ver como o jogador aleatório se sai contra o jogador `alpha_beta_player`."
      ]
    },
    {
      "cell_type": "code",
      "metadata": {
        "id": "ilAJV_fdi7gp"
      },
      "source": [
        "result = ttt.play_game(alpha_beta_player, random_player)\n",
        "winner = {1: 'Player 1', 0: 'Draw', -1: 'Player 2'}\n",
        "print('Result: %d' % result)\n",
        "print('Winner: %s' % winner[result])"
      ],
      "execution_count": null,
      "outputs": []
    },
    {
      "cell_type": "markdown",
      "metadata": {
        "id": "8yoJWl0Si7sd"
      },
      "source": [
        "Note que o jogador aleatório tem poucas chances contra o seu oponente. Na maioria das vezes, é o `alpha_beta_player` quem ganha. Para testarmos melhor, vamos repetir o jogo 20 vezes. Ao final, mostraremos o somatório dos resultados dos jogos. Se o somatório for menor que 20, então significa que o jogador aleatório ganhou pelo menos uma vez."
      ]
    },
    {
      "cell_type": "code",
      "metadata": {
        "id": "CJK3vuIVkCOG"
      },
      "source": [
        "repetitions = 20\n",
        "summation = 0\n",
        "for i in range(repetitions):\n",
        "  summation += ttt.play_game(alpha_beta_player, random_player, animate=False)\n",
        "\n",
        "print('Result: %d/%d' % (summation, repetitions))"
      ],
      "execution_count": null,
      "outputs": []
    },
    {
      "cell_type": "markdown",
      "metadata": {
        "id": "KvWVyD3BkCbC"
      },
      "source": [
        "Finalmente, vamos ver agora o que acontece quando dois jogadores do tipo `alpha_beta_player` jogam um contra o outro."
      ]
    },
    {
      "cell_type": "code",
      "metadata": {
        "id": "InMLpZScBmb2"
      },
      "source": [
        "result = ttt.play_game(alpha_beta_player, alpha_beta_player)\n",
        "winner = {1: 'Player 1', 0: 'Draw', -1: 'Player 2'}\n",
        "print('Result: %d' % result)\n",
        "print('Winner: %s' % winner[result])"
      ],
      "execution_count": null,
      "outputs": []
    },
    {
      "cell_type": "markdown",
      "metadata": {
        "id": "9TfHuHNokaGu"
      },
      "source": [
        "Neste cenário, note que o jogo sempre terminará em empate. Como ambos jogadores conhecem as melhores jogadas a cada estado, o empate se torna inevitável."
      ]
    },
    {
      "cell_type": "markdown",
      "metadata": {
        "id": "GARK4PZu_tve"
      },
      "source": [
        "### Exercício 1\n",
        "\n",
        "Calcule os valores Minimax de cada estado da árvore de jogo abaixo. \n",
        "\n",
        "![alt text](https://i.imgur.com/1mrTV5y.png)"
      ]
    },
    {
      "cell_type": "markdown",
      "metadata": {
        "id": "4mYCdaHEHf7G"
      },
      "source": [
        "Os valores Minimax dos estados são:\n",
        "* Estado 'A': 4\n",
        "* Estado 'B': -5\n",
        "* Estado 'C': 4\n",
        "* Estado 'D': -1\n",
        "* Estado 'E': 0"
      ]
    },
    {
      "cell_type": "markdown",
      "metadata": {
        "id": "lXPiNQjg_ty1"
      },
      "source": [
        "### Exercício 2\n",
        "\n",
        "Com base no algoritmo Alpha-Beta pruning, encontre os valores alpha e beta de cada estado da árvore de jogo abaixo. Lembre-se que este algoritmo poda porções da árvore; portanto, não deixe de indicar as porções podadas pelo algoritmo.\n",
        "\n",
        "![alt text](https://i.imgur.com/zII14oY.png)"
      ]
    },
    {
      "cell_type": "markdown",
      "metadata": {
        "id": "JhNWKR2qI9oH"
      },
      "source": [
        "Os valores alpha-beta dos estados são:\n",
        "* Estado 'A': [10, 10]\n",
        "* Estado 'B': [10, 10]\n",
        "* Estado 'C': [-inf, 8]\n",
        "* Estado 'D': [25, 25]\n",
        "* Estado 'E': [10, 10]\n",
        "* Estado 'F': [8, 8]\n",
        "* Estado 'G': [-inf, +inf]\n",
        "* Estado 'H': [25, 25]\n",
        "* Estado 'I': [-inf, -31]\n",
        "* Estado 'J': [10, 10]\n",
        "* Estado 'K': [-inf, -5]\n",
        "* Estado 'L': [8, 8]\n",
        "* Estado 'M': [-inf, 0]\n",
        "* Estado 'N': [-inf, +inf]\n",
        "* Estado 'O': [-inf, +inf]\n",
        "\n",
        "As porções podadas da árvore são (identifiquei as arestas com base no nome das ações; cada aresta listada abaixo indica que a subárvore correspondente foi eliminada):\n",
        "* Aresta 'i2'\n",
        "* Aresta 'k2'\n",
        "* Aresta 'm2'\n",
        "* Aresta 'c2'\n"
      ]
    },
    {
      "cell_type": "markdown",
      "metadata": {
        "id": "dpQeyqBO_27X"
      },
      "source": [
        "### Exercício 3\n",
        "\n",
        "Crie uma classe para representar o jogo do Exercício 1. Em seguida, teste os algoritmos `alpha_beta_player` e `random_player` e comente os resultados."
      ]
    },
    {
      "cell_type": "code",
      "metadata": {
        "id": "pNgZwnkOAJvp"
      },
      "source": [
        "GameState = namedtuple('GameStateEx1', 'to_move, utility, node, moves')\n",
        "\n",
        "class JogoEx1(Game):\n",
        "    \n",
        "    def __init__(self):\n",
        "        self.moves = {'A': {'a1': 'B',   'a2': 'C',   'a3': 'D',   'a4': 'E'},\n",
        "                      'B': {'b1': 'FB1', 'b2': 'FB2', 'b3': 'FB3', 'b4': 'FB4'},\n",
        "                      'C': {'c1': 'FC1', 'c2': 'FC2', 'c3': 'FC3', 'c4': 'FC4'},\n",
        "                      'D': {'d1': 'FD1', 'd2': 'FD2', 'd3': 'FD3', 'd4': 'FD4'},\n",
        "                      'E': {'e1': 'FE1', 'e2': 'FE2', 'e3': 'FE3', 'e4': 'FE4'}}\n",
        "                      \n",
        "        self.utilities = {'FB1': -5, 'FB2': 8, 'FB3': 0,  'FB4': 3,\n",
        "                          'FC1': 10, 'FC2': 8, 'FC3': 6,  'FC4': 4,\n",
        "                          'FD1': 0,  'FD2': 2, 'FD3': -1, 'FD4': 5,\n",
        "                          'FE1': 3,  'FE2': 2, 'FE3': 20, 'FE4': 0}\n",
        "        \n",
        "        self.initial = GameState(to_move='J1', utility=0, node='A', moves=list(self.moves['A'].keys()))\n",
        "\n",
        "    # igual\n",
        "    def actions(self, state):\n",
        "        return state.moves\n",
        "\n",
        "    def result(self, state, move):\n",
        "        if move not in state.moves:\n",
        "            return state  # Illegal move has no effect\n",
        "        \n",
        "        new_node = self.moves[state.node][move]\n",
        "        return GameState(to_move=('J2' if state.to_move == 'J1' else 'J1'),\n",
        "                         utility=(self.utilities[new_node] if new_node in self.utilities else 0),\n",
        "                         node=new_node, \n",
        "                         moves=(list(self.moves[new_node].keys()) if new_node in self.moves else None))\n",
        "\n",
        "    def utility(self, state, player):\n",
        "        return state.utility if player == 'J1' else -state.utility\n",
        "\n",
        "    def terminal_test(self, state):\n",
        "        return not state.node in self.moves"
      ],
      "execution_count": null,
      "outputs": []
    },
    {
      "cell_type": "code",
      "metadata": {
        "id": "SkRVQYRy_gfy"
      },
      "source": [
        "jex1 = JogoEx1()\n",
        "result = jex1.play_game(alpha_beta_player, alpha_beta_player)\n",
        "\n",
        "print('Player 1: %d' % (result))\n",
        "print('Player 2: %d' % (-result))\n",
        "\n",
        "if result > 0:\n",
        "  print('Player 1 wins!')\n",
        "elif result < 0:\n",
        "  print('Player 2 wins!')\n",
        "else:\n",
        "  print('Draw!')"
      ],
      "execution_count": null,
      "outputs": []
    },
    {
      "cell_type": "markdown",
      "metadata": {
        "id": "5gpOnC0R1mXb"
      },
      "source": [
        "### Exercício extra\n",
        "\n",
        "Generalize a classe de jogo criada no Exercício 3 para que ela acomode jogos de múltiplos rounds, como o do Exercício 2. Em seguida, teste os algoritmos `alpha_beta_player` e `random_player` e comente os resultados.\n"
      ]
    },
    {
      "cell_type": "code",
      "metadata": {
        "id": "_V5TY6rQ1miZ"
      },
      "source": [
        "# TODO: your answer here"
      ],
      "execution_count": null,
      "outputs": []
    }
  ]
}