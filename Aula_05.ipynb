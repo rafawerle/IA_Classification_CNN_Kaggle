{
  "nbformat": 4,
  "nbformat_minor": 0,
  "metadata": {
    "colab": {
      "name": "Aula 05 - respostas.ipynb",
      "provenance": [],
      "collapsed_sections": [],
      "toc_visible": true
    },
    "kernelspec": {
      "name": "python3",
      "display_name": "Python 3"
    }
  },
  "cells": [
    {
      "cell_type": "markdown",
      "metadata": {
        "id": "KlcibMKA_a-j"
      },
      "source": [
        "# Aula 5 - Satisfação de restrições\n",
        "\n",
        "Neste notebook, formularemos o problema das n-rainhas como um CSP e implementaremos o algoritmo Backtracking-Search com diferentes heurísticas para resolver o mesmo. O objetivo aqui é entender como este algoritmo funciona. Ao final, você deverá realizar os exercícios propostos.\n",
        "\n",
        "Primeiramente, vamos criar algumas funções e classes de apoio."
      ]
    },
    {
      "cell_type": "code",
      "metadata": {
        "id": "riuuY9F56KTz"
      },
      "source": [
        "import random\n",
        "import numpy as np\n",
        "from collections import defaultdict\n",
        "\n",
        "def first(iterable, default=None):\n",
        "    \"\"\"Return the first element of an iterable; or default.\"\"\"\n",
        "    return next(iter(iterable), default)\n",
        "\n",
        "def count(seq):\n",
        "    \"\"\"Count the number of items in sequence that are interpreted as true.\"\"\"\n",
        "    return sum(map(bool, seq))\n",
        "\n",
        "class UniversalDict:\n",
        "    \"\"\"A universal dict maps any key to the same value. We use it here\n",
        "    as the domains dict for CSPs in which all variables have the same domain.\n",
        "    >>> d = UniversalDict(42)\n",
        "    >>> d['life']\n",
        "    42\n",
        "    \"\"\"\n",
        "\n",
        "    def __init__(self, value): \n",
        "      self.value = value\n",
        "\n",
        "    def __getitem__(self, key): \n",
        "      return self.value\n",
        "\n",
        "    def __repr__(self): \n",
        "      return '{{Any: {0!r}}}'.format(self.value)\n",
        "\n",
        "class Problem:\n",
        "    \"\"\"The abstract class for a formal problem. You should subclass\n",
        "    this and implement the methods actions and result, and possibly\n",
        "    __init__, goal_test, and path_cost. Then you will create instances\n",
        "    of your subclass and solve them with the various search functions.\"\"\"\n",
        "\n",
        "    def __init__(self, initial, goal=None):\n",
        "        \"\"\"The constructor specifies the initial state, and possibly a goal\n",
        "        state, if there is a unique goal. Your subclass's constructor can add\n",
        "        other arguments.\"\"\"\n",
        "        self.initial = initial\n",
        "        self.goal = goal\n",
        "\n",
        "    def actions(self, state):\n",
        "        \"\"\"Return the actions that can be executed in the given\n",
        "        state. The result would typically be a list, but if there are\n",
        "        many actions, consider yielding them one at a time in an\n",
        "        iterator, rather than building them all at once.\"\"\"\n",
        "        raise NotImplementedError\n",
        "\n",
        "    def result(self, state, action):\n",
        "        \"\"\"Return the state that results from executing the given\n",
        "        action in the given state. The action must be one of\n",
        "        self.actions(state).\"\"\"\n",
        "        raise NotImplementedError\n",
        "\n",
        "    def goal_test(self, state):\n",
        "        \"\"\"Return True if the state is a goal. The default method compares the\n",
        "        state to self.goal or checks for state in self.goal if it is a\n",
        "        list, as specified in the constructor. Override this method if\n",
        "        checking against a single self.goal is not enough.\"\"\"\n",
        "        if isinstance(self.goal, list):\n",
        "            return is_in(state, self.goal)\n",
        "        else:\n",
        "            return state == self.goal\n",
        "\n",
        "    def path_cost(self, c, state1, action, state2):\n",
        "        \"\"\"Return the cost of a solution path that arrives at state2 from\n",
        "        state1 via action, assuming cost c to get up to state1. If the problem\n",
        "        is such that the path doesn't matter, this function will only look at\n",
        "        state2. If the path does matter, it will consider c and maybe state1\n",
        "        and action. The default method costs 1 for every step in the path.\"\"\"\n",
        "        return c + 1\n",
        "\n",
        "    def value(self, state):\n",
        "        \"\"\"For optimization problems, each state has a value. Hill Climbing\n",
        "        and related algorithms try to maximize this value.\"\"\"\n",
        "        raise NotImplementedError"
      ],
      "execution_count": null,
      "outputs": []
    },
    {
      "cell_type": "markdown",
      "metadata": {
        "id": "JPoz92uIUstH"
      },
      "source": [
        "Agora, vamos criar uma classe que formalize um problema de satisfação de restrições (CSP)."
      ]
    },
    {
      "cell_type": "code",
      "metadata": {
        "id": "Ff4T3u5O_fx6"
      },
      "source": [
        "class CSP(Problem):\n",
        "    \"\"\"This class describes finite-domain Constraint Satisfaction Problems.\n",
        "    A CSP is specified by the following inputs:\n",
        "        variables   A list of variables; each is atomic (e.g. int or string).\n",
        "        domains     A dict of {var:[possible_value, ...]} entries.\n",
        "        neighbors   A dict of {var:[var,...]} that for each variable lists\n",
        "                    the other variables that participate in constraints.\n",
        "        constraints A function f(A, a, B, b) that returns true if neighbors\n",
        "                    A, B satisfy the constraint when they have values A=a, B=b\n",
        "\n",
        "    In the textbook and in most mathematical definitions, the\n",
        "    constraints are specified as explicit pairs of allowable values,\n",
        "    but the formulation here is easier to express and more compact for\n",
        "    most cases. (For example, the n-Queens problem can be represented\n",
        "    in O(n) space using this notation, instead of O(N^4) for the\n",
        "    explicit representation.) In terms of describing the CSP as a\n",
        "    problem, that's all there is.\n",
        "\n",
        "    However, the class also supports data structures and methods that help you\n",
        "    solve CSPs by calling a search function on the CSP. Methods and slots are\n",
        "    as follows, where the argument 'a' represents an assignment, which is a\n",
        "    dict of {var:val} entries:\n",
        "        assign(var, val, a)     Assign a[var] = val; do other bookkeeping\n",
        "        unassign(var, a)        Do del a[var], plus other bookkeeping\n",
        "        nconflicts(var, val, a) Return the number of other variables that\n",
        "                                conflict with var=val\n",
        "        curr_domains[var]       Slot: remaining consistent values for var\n",
        "                                Used by constraint propagation routines.\n",
        "    The following methods are used only by graph_search and tree_search:\n",
        "        actions(state)          Return a list of actions\n",
        "        result(state, action)   Return a successor of state\n",
        "        goal_test(state)        Return true if all constraints satisfied\n",
        "    The following are just for debugging purposes:\n",
        "        nassigns                Slot: tracks the number of assignments made\n",
        "        display(a)              Print a human-readable representation\n",
        "    \"\"\"\n",
        "\n",
        "    def __init__(self, variables, domains, neighbors, constraints):\n",
        "        \"\"\"Construct a CSP problem. If variables is empty, it becomes domains.keys().\"\"\"\n",
        "        variables = variables or list(domains.keys())\n",
        "        self.variables = variables\n",
        "        self.domains = domains\n",
        "        self.neighbors = neighbors\n",
        "        self.constraints = constraints\n",
        "        self.initial = ()\n",
        "        self.curr_domains = None\n",
        "        self.nassigns = 0\n",
        "\n",
        "    def assign(self, var, val, assignment):\n",
        "        \"\"\"Add {var: val} to assignment; Discard the old value if any.\"\"\"\n",
        "        assignment[var] = val\n",
        "        self.nassigns += 1\n",
        "\n",
        "    def unassign(self, var, assignment):\n",
        "        \"\"\"Remove {var: val} from assignment.\n",
        "        DO NOT call this if you are changing a variable to a new value;\n",
        "        just call assign for that.\"\"\"\n",
        "        if var in assignment:\n",
        "            del assignment[var]\n",
        "\n",
        "    def nconflicts(self, var, val, assignment):\n",
        "        \"\"\"Return the number of conflicts var=val has with other variables.\"\"\"\n",
        "\n",
        "        # Subclasses may implement this more efficiently\n",
        "        def conflict(var2):\n",
        "            return (var2 in assignment and\n",
        "                    not self.constraints(var, val, var2, assignment[var2]))\n",
        "\n",
        "        return count(conflict(v) for v in self.neighbors[var])\n",
        "\n",
        "    def display(self, assignment):\n",
        "        \"\"\"Show a human-readable representation of the CSP.\"\"\"\n",
        "        # Subclasses can print in a prettier way, or display with a GUI\n",
        "        print('CSP:', self, 'with assignment:', assignment)\n",
        "\n",
        "    # These methods are for the tree and graph-search interface:\n",
        "\n",
        "    def actions(self, state):\n",
        "        \"\"\"Return a list of applicable actions: nonconflicting\n",
        "        assignments to an unassigned variable.\"\"\"\n",
        "        if len(state) == len(self.variables):\n",
        "            return []\n",
        "        else:\n",
        "            assignment = dict(state)\n",
        "            var = first([v for v in self.variables if v not in assignment])\n",
        "            return [(var, val) for val in self.domains[var]\n",
        "                    if self.nconflicts(var, val, assignment) == 0]\n",
        "\n",
        "    def result(self, state, action):\n",
        "        \"\"\"Perform an action and return the new state.\"\"\"\n",
        "        (var, val) = action\n",
        "        return state + ((var, val),)\n",
        "\n",
        "    def goal_test(self, state):\n",
        "        \"\"\"The goal is to assign all variables, with all constraints satisfied.\"\"\"\n",
        "        assignment = dict(state)\n",
        "        return (len(assignment) == len(self.variables)\n",
        "                and all(self.nconflicts(variables, assignment[variables], assignment) == 0\n",
        "                        for variables in self.variables))\n",
        "\n",
        "    # These are for constraint propagation\n",
        "\n",
        "    def support_pruning(self):\n",
        "        \"\"\"Make sure we can prune values from domains. (We want to pay\n",
        "        for this only if we use it.)\"\"\"\n",
        "        if self.curr_domains is None:\n",
        "            self.curr_domains = {v: list(self.domains[v]) for v in self.variables}\n",
        "\n",
        "    def suppose(self, var, value):\n",
        "        \"\"\"Start accumulating inferences from assuming var=value.\"\"\"\n",
        "        self.support_pruning()\n",
        "        removals = [(var, a) for a in self.curr_domains[var] if a != value]\n",
        "        self.curr_domains[var] = [value]\n",
        "        return removals\n",
        "\n",
        "    def prune(self, var, value, removals):\n",
        "        \"\"\"Rule out var=value.\"\"\"\n",
        "        self.curr_domains[var].remove(value)\n",
        "        if removals is not None:\n",
        "            removals.append((var, value))\n",
        "\n",
        "    def choices(self, var):\n",
        "        \"\"\"Return all values for var that aren't currently ruled out.\"\"\"\n",
        "        return (self.curr_domains or self.domains)[var]\n",
        "\n",
        "    def infer_assignment(self):\n",
        "        \"\"\"Return the partial assignment implied by the current inferences.\"\"\"\n",
        "        self.support_pruning()\n",
        "        return {v: self.curr_domains[v][0]\n",
        "                for v in self.variables if 1 == len(self.curr_domains[v])}\n",
        "\n",
        "    def restore(self, removals):\n",
        "        \"\"\"Undo a supposition and all inferences from it.\"\"\"\n",
        "        for B, b in removals:\n",
        "            self.curr_domains[B].append(b)"
      ],
      "execution_count": null,
      "outputs": []
    },
    {
      "cell_type": "markdown",
      "metadata": {
        "id": "X_T4ejuAT3mi"
      },
      "source": [
        "Agora podemos criar o algoritmo Backtracking-Search. Este algoritmo é implementado pela função `backtracking_search`, que recebe um CSP (`csp`), além de funções para seleção de variáveis (`select_unassigned_variable`), seleção de domínios de variáveis (`order_domain_values`) e inferência (`inference`). Por padrão, nossa implementação recebe as funções `first_unassigned_variable` (que retorna a primeira variável livre), `unordered_domain_values` (que retorna todos os valores disponíveis) e `no_inference` (que não faz qualquer inferência). Ao final, nossa função `backtracking_search` retorna a alocação encontrada (ou `None`, caso nenhuma alocação válida tenha sido encontrada).\n"
      ]
    },
    {
      "cell_type": "code",
      "metadata": {
        "id": "OYiNHcnSVOg5"
      },
      "source": [
        "def first_unassigned_variable(assignment, csp):\n",
        "    return first([var for var in csp.variables if var not in assignment])\n",
        "\n",
        "def unordered_domain_values(var, assignment, csp):\n",
        "    return csp.choices(var)\n",
        "\n",
        "def no_inference(csp, var, value, assignment, removals):\n",
        "    return True\n",
        "\n",
        "def backtracking_search(csp, select_unassigned_variable=first_unassigned_variable,\n",
        "                        order_domain_values=unordered_domain_values, inference=no_inference):\n",
        "\n",
        "    def backtrack(assignment):\n",
        "        if len(assignment) == len(csp.variables):\n",
        "            return assignment\n",
        "        var = select_unassigned_variable(assignment, csp)\n",
        "        for value in order_domain_values(var, assignment, csp):\n",
        "            if 0 == csp.nconflicts(var, value, assignment):\n",
        "                csp.assign(var, value, assignment)\n",
        "                removals = csp.suppose(var, value)\n",
        "                if inference(csp, var, value, assignment, removals):\n",
        "                    result = backtrack(assignment)\n",
        "                    if result is not None:\n",
        "                        return result\n",
        "                csp.restore(removals)\n",
        "        csp.unassign(var, assignment)\n",
        "        return None\n",
        "\n",
        "    result = backtrack({})\n",
        "    assert result is None or csp.goal_test(result)\n",
        "    return result"
      ],
      "execution_count": null,
      "outputs": []
    },
    {
      "cell_type": "markdown",
      "metadata": {
        "id": "6FqAwUpAVRtJ"
      },
      "source": [
        "Note que o algoritmo acima não é muito eficiente na seleção de variáveis/valores e no uso de inferência. Vamos resolver isso com técnica mais sofisticadas. \n",
        "\n",
        "Primeiramente, abaixo empregamos a heurística \"minimum remaining values\" (`mrv`), que recebe um CSP (`csp`) e retorna a variável com menos possibilidades de valores disponíveis."
      ]
    },
    {
      "cell_type": "code",
      "metadata": {
        "id": "ycgT4cTpJ-oc"
      },
      "source": [
        "def mrv(assignment, csp):\n",
        "    return argmin_random_tie([v for v in csp.variables if v not in assignment],\n",
        "                             key=lambda var: num_legal_values(csp, var, assignment))\n",
        "\n",
        "def num_legal_values(csp, var, assignment):\n",
        "    if csp.curr_domains:\n",
        "        return len(csp.curr_domains[var])\n",
        "    else:\n",
        "        return count(csp.nconflicts(var, val, assignment) == 0 for val in csp.domains[var])\n",
        "\n",
        "def argmin_random_tie(seq, key=lambda x: x):\n",
        "    \"\"\"Return a minimum element of seq; break ties at random.\"\"\"\n",
        "    items = list(seq)\n",
        "    random.shuffle(items)\n",
        "    return min(items, key=key)"
      ],
      "execution_count": null,
      "outputs": []
    },
    {
      "cell_type": "markdown",
      "metadata": {
        "id": "IIu1AGK-T64G"
      },
      "source": [
        "Em termos de seleção de valores, abaixo apresentamos a heurística \"least constrained value\" (`lcv`), que recebe um CSP (`csp`), uma variável (`var`) e uma alocação parcial (`assignment`) e retorna o valor de `var` que restringe menos as demais variáveis."
      ]
    },
    {
      "cell_type": "code",
      "metadata": {
        "id": "9M6BGdCUKCre"
      },
      "source": [
        "def lcv(var, assignment, csp):\n",
        "    return sorted(csp.choices(var), key=lambda val: csp.nconflicts(var, val, assignment))"
      ],
      "execution_count": null,
      "outputs": []
    },
    {
      "cell_type": "markdown",
      "metadata": {
        "id": "bUmfgmAdVHyw"
      },
      "source": [
        "Finalmente, abaixo apresentamos o mecanismo `forward_checking` para inferências. Este mecanismo recebe um CSP (`csp`), uma variável (`var`), um valor (`value`), uma alocação parcial (`assignment`) e uma lista de remoções (`removals`). O algoritmo então antecipa possíveis falhas e poda os valores correspondentes. "
      ]
    },
    {
      "cell_type": "code",
      "metadata": {
        "id": "aIYIhVtnJrnk"
      },
      "source": [
        "def forward_checking(csp, var, value, assignment, removals):\n",
        "    csp.support_pruning()\n",
        "    for B in csp.neighbors[var]:\n",
        "        if B not in assignment:\n",
        "            for b in csp.curr_domains[B][:]:\n",
        "                if not csp.constraints(var, value, B, b):\n",
        "                    csp.prune(B, b, removals)\n",
        "            if not csp.curr_domains[B]:\n",
        "                return False\n",
        "    return True"
      ],
      "execution_count": null,
      "outputs": []
    },
    {
      "cell_type": "markdown",
      "metadata": {
        "id": "NTq1vZu6VhMT"
      },
      "source": [
        "Definidos o algoritmo de backtracking e a formulação geral de CSPs, agora podemos criar uma classe para o problema N-Queens. Faremos isto através da classe `NQueensCSP`, subclasse de `CSP`, que consegue representar instâncias arbitrárias do problema (como a instância clássica 8-rainhas)."
      ]
    },
    {
      "cell_type": "code",
      "metadata": {
        "id": "7z01F4adAueD"
      },
      "source": [
        "class NQueensCSP(CSP):\n",
        "    \"\"\"Make a CSP for the nQueens problem for search with min_conflicts.\n",
        "    Suitable for large n, it uses only data structures of size O(n).\n",
        "    Think of placing queens one per column, from left to right.\n",
        "    That means position (x, y) represents (var, val) in the CSP.\n",
        "    The main structures are three arrays to count queens that could conflict:\n",
        "        rows[i]      Number of queens in the ith row (i.e val == i)\n",
        "        downs[i]     Number of queens in the \\ diagonal\n",
        "                     such that their (x, y) coordinates sum to i\n",
        "        ups[i]       Number of queens in the / diagonal\n",
        "                     such that their (x, y) coordinates have x-y+n-1 = i\n",
        "    We increment/decrement these counts each time a queen is placed/moved from\n",
        "    a row/diagonal. So moving is O(1), as is nconflicts.  But choosing\n",
        "    a variable, and a best value for the variable, are each O(n).\n",
        "    If you want, you can keep track of conflicted variables, then variable\n",
        "    selection will also be O(1).\n",
        "    >>> len(backtracking_search(NQueensCSP(8)))\n",
        "    8\n",
        "    \"\"\"\n",
        "\n",
        "    def __init__(self, n):\n",
        "        \"\"\"Initialize data structures for n Queens.\"\"\"\n",
        "        CSP.__init__(self, list(range(n)), UniversalDict(list(range(n))),\n",
        "                     UniversalDict(list(range(n))), self.queen_constraint)\n",
        "\n",
        "        self.rows = [0] * n\n",
        "        self.ups = [0] * (2 * n - 1)\n",
        "        self.downs = [0] * (2 * n - 1)\n",
        "\n",
        "    def nconflicts(self, var, val, assignment):\n",
        "        \"\"\"The number of conflicts, as recorded with each assignment.\n",
        "        Count conflicts in row and in up, down diagonals. If there\n",
        "        is a queen there, it can't conflict with itself, so subtract 3.\"\"\"\n",
        "        n = len(self.variables)\n",
        "        c = self.rows[val] + self.downs[var + val] + self.ups[var - val + n - 1]\n",
        "        if assignment.get(var, None) == val:\n",
        "            c -= 3\n",
        "        return c\n",
        "\n",
        "    def assign(self, var, val, assignment):\n",
        "        \"\"\"Assign var, and keep track of conflicts.\"\"\"\n",
        "        oldval = assignment.get(var, None)\n",
        "        if val != oldval:\n",
        "            if oldval is not None:  # Remove old val if there was one\n",
        "                self.record_conflict(assignment, var, oldval, -1)\n",
        "            self.record_conflict(assignment, var, val, +1)\n",
        "            CSP.assign(self, var, val, assignment)\n",
        "\n",
        "    def unassign(self, var, assignment):\n",
        "        \"\"\"Remove var from assignment (if it is there) and track conflicts.\"\"\"\n",
        "        if var in assignment:\n",
        "            self.record_conflict(assignment, var, assignment[var], -1)\n",
        "        CSP.unassign(self, var, assignment)\n",
        "\n",
        "    def record_conflict(self, assignment, var, val, delta):\n",
        "        \"\"\"Record conflicts caused by addition or deletion of a Queen.\"\"\"\n",
        "        n = len(self.variables)\n",
        "        self.rows[val] += delta\n",
        "        self.downs[var + val] += delta\n",
        "        self.ups[var - val + n - 1] += delta\n",
        "\n",
        "    def display(self, assignment):\n",
        "        \"\"\"Print the queens and the nconflicts values (for debugging).\"\"\"\n",
        "        n = len(self.variables)\n",
        "        for val in range(n):\n",
        "            for var in range(n):\n",
        "                if assignment.get(var, '') == val:\n",
        "                    ch = 'Q'\n",
        "                elif (var + val) % 2 == 0:\n",
        "                    ch = '.'\n",
        "                else:\n",
        "                    ch = '-'\n",
        "                print(ch, end=' ')\n",
        "            print('    ', end=' ')\n",
        "            for var in range(n):\n",
        "                if assignment.get(var, '') == val:\n",
        "                    ch = '*'\n",
        "                else:\n",
        "                    ch = ' '\n",
        "                print(str(self.nconflicts(var, val, assignment)) + ch, end=' ')\n",
        "            print()\n",
        "\n",
        "    def queen_constraint(self, A, a, B, b):\n",
        "      \"\"\"Constraint is satisfied (true) if A, B are really the same variable,\n",
        "      or if they are not in the same row, down diagonal, or up diagonal.\"\"\"\n",
        "      return A == B or (a != b and A + a != B + b and A - a != B - b)"
      ],
      "execution_count": null,
      "outputs": []
    },
    {
      "cell_type": "markdown",
      "metadata": {
        "id": "-VQVEMybis5-"
      },
      "source": [
        "De modo a facilitar a visualização das soluções, abaixo criamos ainda uma função de apoio. A função `plot_NQueens` recebe uma solução (`solution`) e a imprime de modo organizado."
      ]
    },
    {
      "cell_type": "code",
      "metadata": {
        "id": "iF7XlRDbakrf"
      },
      "source": [
        "def plot_NQueens(solution):\n",
        "    n = len(solution)\n",
        "    line = '-'*(n*4+1)\n",
        "    print(line)\n",
        "    for c in range(n):\n",
        "      string = '|'\n",
        "      for r in range(n):\n",
        "        p = ' '\n",
        "        if c == solution[r]:\n",
        "          p = 'X'\n",
        "        string += ' ' + p + ' |'\n",
        "      print(string)\n",
        "      print('-'*(n*4+1))"
      ],
      "execution_count": null,
      "outputs": []
    },
    {
      "cell_type": "markdown",
      "metadata": {
        "id": "BA6SJhFaWMkN"
      },
      "source": [
        "Agora podemos finalmente testar nosso algoritmo de backtracking no problema N-Queens. Abaixo, criamos a instância 8-rainhas. Em seguida, rodamos o algoritmo `backtracking_search` nesta instância, utilizando as \n",
        "heurísticas de seleção de variáveis/valores e de inferência criadas por último."
      ]
    },
    {
      "cell_type": "code",
      "metadata": {
        "id": "bq4-x0bUjXdu"
      },
      "source": [
        "eight_queens = NQueensCSP(8)\n",
        "solution = backtracking_search(\n",
        "    eight_queens, \n",
        "    select_unassigned_variable=mrv,\n",
        "    order_domain_values=lcv,\n",
        "    inference=no_inference\n",
        "    )\n",
        "plot_NQueens(solution)\n",
        "print(solution)"
      ],
      "execution_count": null,
      "outputs": []
    },
    {
      "cell_type": "markdown",
      "metadata": {
        "id": "fp3o_Aq-jXoT"
      },
      "source": [
        "Como pode ser observado, o resultado encontrado é uma solução válida para o problema. \n",
        "\n",
        "Lembre-se que criamos funções simples e mais sofisticadas para a seleção de variáveis/valores e de inferência. Para poder comparar ambas, vamos testar uma instância maior do problema, o 20-rainhas. "
      ]
    },
    {
      "cell_type": "code",
      "metadata": {
        "id": "_tmknlxKJvqg"
      },
      "source": [
        "import time\n",
        "\n",
        "twenty_queens1 = NQueensCSP(20)\n",
        "twenty_queens2 = NQueensCSP(20)\n",
        "\n",
        "start = time.time()\n",
        "solution1 = backtracking_search(\n",
        "    twenty_queens1, \n",
        "    select_unassigned_variable=first_unassigned_variable,\n",
        "    order_domain_values=unordered_domain_values, \n",
        "    inference=no_inference\n",
        "    )\n",
        "runtime1 = time.time() - start\n",
        "plot_NQueens(solution1)\n",
        "\n",
        "start = time.time()\n",
        "solution2 = backtracking_search(\n",
        "    twenty_queens2, \n",
        "    select_unassigned_variable=mrv,\n",
        "    order_domain_values=lcv,\n",
        "    #inference=no_inference\n",
        "    inference=forward_checking\n",
        "    )\n",
        "runtime2 = time.time() - start\n",
        "plot_NQueens(solution2)\n",
        "\n",
        "print('Runtime 1: %.2fs' % (runtime1))\n",
        "print('Runtime 2: %.2fs' % (runtime2))"
      ],
      "execution_count": null,
      "outputs": []
    },
    {
      "cell_type": "markdown",
      "metadata": {
        "id": "uwwspWFfnHNB"
      },
      "source": [
        "Conforme pode ser observado acima, as heurísticas e inferências realizadas pelo segundo algoritmo o tornam consideravelmente mais rápido que a versão mais trivial do mesmo."
      ]
    },
    {
      "cell_type": "markdown",
      "metadata": {
        "id": "FHRr4bOL_-Nz"
      },
      "source": [
        "### Exercício 1\n",
        "\n",
        "Modele o problema Sudoku como um CSP. Para isto, crie a classe `SudokuCSP`. Ao ser instanciada, esta classe deve receber como argumento uma instância do problema como o exemplo (a) da figura abaixo (vide Exercício 5 para representação desta instância). Ainda na inicialização, é preciso converter a instância recebida em um grafo seguindo a formalização de um CSP (vide classe correspondente). Dica: para denotar posições fixas (ex: no exemplo, a posição A3 tem valor 3 fixo), crie domínios com um valor único para estas variáveis.\n",
        "\n",
        "![alt text](https://i.imgur.com/YRbZf7l.png)"
      ]
    },
    {
      "cell_type": "code",
      "metadata": {
        "id": "1IJrFAeUAKdJ"
      },
      "source": [
        "class SudokuCSP(CSP):\n",
        "    \n",
        "    def __init__(self, instance):\n",
        "\n",
        "        self.rows = ['A', 'B', 'C', 'D', 'E', 'F', 'G', 'H', 'I']\n",
        "        self.columns = list(range(1,10))\n",
        "\n",
        "        # create the main elements of the CSP\n",
        "        variables = []\n",
        "        domains = {}\n",
        "        neighbors = {}\n",
        "\n",
        "        # populate the main elements of the CSP\n",
        "        for row in self.rows:\n",
        "            for col in self.columns:\n",
        "                var = '%s%d' % (row, col)\n",
        "                variables.append(var)\n",
        "                domains[var] = list(range(1,10))\n",
        "                neighbors[var] = self.list_neighbors_var(row, col)\n",
        "\n",
        "        # process the variables already assigned in the instance\n",
        "        for rowid, row in enumerate(self.rows):\n",
        "            for colid, col in enumerate(self.columns):\n",
        "                if instance[rowid][colid] != 0:\n",
        "                    var = '%s%d' % (row, col)\n",
        "                    domains[var] = [instance[rowid][colid]]\n",
        "        \n",
        "        # initialise the CSP\n",
        "        CSP.__init__(self, \n",
        "                     variables, #list(range(n)), \n",
        "                     domains, #UniversalDict(list(range(n))),\n",
        "                     neighbors, #UniversalDict(list(range(n))), \n",
        "                     self.sudoku_constraints)\n",
        "\n",
        "    def list_neighbors_var(self, row, col):\n",
        "\n",
        "        neighbors = []\n",
        "\n",
        "        # same column\n",
        "        for r in self.rows:\n",
        "            neigh = '%s%d' % (r, col)\n",
        "            if neigh not in neighbors:\n",
        "                neighbors.append(neigh)\n",
        "\n",
        "        # same row\n",
        "        for c in self.columns:\n",
        "            neigh = '%s%d' % (row, c)\n",
        "            if neigh not in neighbors:\n",
        "                neighbors.append(neigh)\n",
        "\n",
        "        # same sub-region\n",
        "        rowid = self.rows.index(row)\n",
        "        reg_cs = list(range(int((col-1) / 3) * 3 + 1, int((col-1) / 3) * 3 + 3 + 1)) # columns in sub-region\n",
        "        reg_rs = self.rows[int(rowid / 3) * 3 : int(rowid / 3) * 3 + 3] # rows in sub-region\n",
        "        for r in reg_rs:\n",
        "            for c in reg_cs:\n",
        "                neigh = '%s%d' % (r, c)\n",
        "                if neigh not in neighbors:\n",
        "                    neighbors.append(neigh)\n",
        "\n",
        "        return neighbors\n",
        "\n",
        "    def sudoku_constraints(self, A, a, B, b):\n",
        "        return A == B or (A != B and a != b)\n",
        "\n",
        "    def display(self, assignment):\n",
        "        rows = ['A', 'B', 'C', 'D', 'E', 'F', 'G', 'H', 'I']\n",
        "        columns = list(range(1,10))\n",
        "        print('-'*37)\n",
        "        for r in rows:\n",
        "            line = '|'\n",
        "            for c in columns:\n",
        "                neigh = '%s%d' % (r, c)\n",
        "                line += ' %d |' % (assignment[neigh])\n",
        "            print(line)\n",
        "            print('-'*37)"
      ],
      "execution_count": null,
      "outputs": []
    },
    {
      "cell_type": "markdown",
      "metadata": {
        "id": "QvvXT_kX_-QR"
      },
      "source": [
        "### Exercício 2\n",
        "\n",
        "Resolva a instância de Sudoku apresentada na figura (a) do exercício 4 utilizando o algoritmo `backtracking_search`. Compare a execução do algoritmo com e sem as heurísticas de seleção de variáveis/valores e de inferência."
      ]
    },
    {
      "cell_type": "code",
      "metadata": {
        "id": "eytcSgpgADS9"
      },
      "source": [
        "instance = [\n",
        "  [0, 0, 3, 0, 2, 0, 6, 0, 0],\n",
        "  [9, 0, 0, 3, 0, 5, 0, 0, 1],\n",
        "  [0, 0, 1, 8, 0, 6, 4, 0, 0],\n",
        "  [0, 0, 8, 1, 0, 2, 9, 0, 0],\n",
        "  [7, 0, 0, 0, 0, 0, 0, 0, 8],\n",
        "  [0, 0, 6, 7, 0, 8, 2, 0, 0],\n",
        "  [0, 0, 2, 6, 0, 9, 5, 0, 0],\n",
        "  [8, 0, 0, 2, 0, 3, 0, 0, 9],\n",
        "  [0, 0, 5, 0, 1, 0, 3, 0, 0]\n",
        "]\n",
        "\n",
        "sudoku = SudokuCSP(instance)\n",
        "solution = backtracking_search(\n",
        "    sudoku, \n",
        "    select_unassigned_variable=mrv,\n",
        "    order_domain_values=lcv,\n",
        "    inference=forward_checking\n",
        "    )\n",
        "sudoku.display(solution)"
      ],
      "execution_count": null,
      "outputs": []
    },
    {
      "cell_type": "code",
      "metadata": {
        "id": "5DsePTFGoJd2"
      },
      "source": [
        "# no heuristics/inference\n",
        "sudoku = SudokuCSP(instance)\n",
        "start = time.time()\n",
        "solution = backtracking_search(\n",
        "    sudoku\n",
        "    )\n",
        "runtime1 = time.time() - start\n",
        "sudoku.display(solution)\n",
        "\n",
        "# with variable selection heuristics\n",
        "sudoku = SudokuCSP(instance)\n",
        "start = time.time()\n",
        "solution = backtracking_search(\n",
        "    sudoku, \n",
        "    select_unassigned_variable=mrv\n",
        "    )\n",
        "runtime2 = time.time() - start\n",
        "sudoku.display(solution)\n",
        "\n",
        "# with value selection heuristics\n",
        "sudoku = SudokuCSP(instance)\n",
        "start = time.time()\n",
        "solution = backtracking_search(\n",
        "    sudoku, \n",
        "    order_domain_values=lcv\n",
        "    )\n",
        "runtime3 = time.time() - start\n",
        "sudoku.display(solution)\n",
        "\n",
        "# with variable and value selection heuristics\n",
        "sudoku = SudokuCSP(instance)\n",
        "start = time.time()\n",
        "solution = backtracking_search(\n",
        "    sudoku, \n",
        "    select_unassigned_variable=mrv,\n",
        "    order_domain_values=lcv\n",
        "    )\n",
        "runtime4 = time.time() - start\n",
        "sudoku.display(solution)\n",
        "\n",
        "# with inference\n",
        "sudoku = SudokuCSP(instance)\n",
        "start = time.time()\n",
        "solution = backtracking_search(\n",
        "    sudoku, \n",
        "    inference=forward_checking\n",
        "    )\n",
        "runtime5 = time.time() - start\n",
        "sudoku.display(solution)\n",
        "\n",
        "# with heuristics and inference\n",
        "sudoku = SudokuCSP(instance)\n",
        "start = time.time()\n",
        "solution = backtracking_search(\n",
        "    sudoku, \n",
        "    select_unassigned_variable=mrv,\n",
        "    order_domain_values=lcv,\n",
        "    inference=forward_checking\n",
        "    )\n",
        "runtime6 = time.time() - start\n",
        "sudoku.display(solution)\n",
        "\n",
        "print('Runtime 1: %.2fs' % (runtime1))\n",
        "print('Runtime 2: %.2fs' % (runtime2))\n",
        "print('Runtime 3: %.2fs' % (runtime3))\n",
        "print('Runtime 4: %.2fs' % (runtime4))\n",
        "print('Runtime 5: %.2fs' % (runtime5))\n",
        "print('Runtime 6: %.2fs' % (runtime6))"
      ],
      "execution_count": null,
      "outputs": []
    },
    {
      "cell_type": "markdown",
      "metadata": {
        "id": "cudYFTEyALKg"
      },
      "source": [
        "(fim)"
      ]
    }
  ]
}