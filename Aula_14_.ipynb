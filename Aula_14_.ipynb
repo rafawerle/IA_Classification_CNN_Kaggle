{
  "nbformat": 4,
  "nbformat_minor": 0,
  "metadata": {
    "colab": {
      "name": "Aula 14.ipynb",
      "provenance": [],
      "collapsed_sections": [],
      "toc_visible": true
    },
    "kernelspec": {
      "name": "python3",
      "display_name": "Python 3"
    }
  },
  "cells": [
    {
      "cell_type": "markdown",
      "metadata": {
        "id": "KlcibMKA_a-j"
      },
      "source": [
        "# Aula 14 - Aprendizado por reforço"
      ]
    },
    {
      "cell_type": "markdown",
      "metadata": {
        "id": "TqWhkCoq_jyp"
      },
      "source": [
        "Neste notebook iremos implementar algoritmos de aprendizado por reforço utilizando ambientes fornecidos pelo [Open AI Gym](https://www.gymlibrary.ml)."
      ]
    },
    {
      "cell_type": "markdown",
      "metadata": {
        "id": "6B7OJ_undTk2"
      },
      "source": [
        "## Parte 1 - Q-learning\n"
      ]
    },
    {
      "cell_type": "markdown",
      "metadata": {
        "id": "JZnsqsJlbhho"
      },
      "source": [
        "Neste exemplo, implementaremos o algoritmo de aprendizado por refoço chamado Q-learning. \n",
        "\n",
        "Primeiramente, precisamos importar algumas bibliotecas."
      ]
    },
    {
      "cell_type": "code",
      "metadata": {
        "id": "3R3KIyKj4VJh"
      },
      "source": [
        "import gym\n",
        "import numpy as np\n",
        "import matplotlib.pyplot as plt"
      ],
      "execution_count": 36,
      "outputs": []
    },
    {
      "cell_type": "markdown",
      "metadata": {
        "id": "klRYiurRblyu"
      },
      "source": [
        "Em nosso exemplo, tentaremos resolver o problema chamado Cliff Walking, apresentado na figura abaixo. Neste problema, o agente parte de S e deve chegar em G de uma forma eficiente, mas evitando o penhasco. Para cada passo, o agente recebe uma recompensa de -1. Caso o agente caia no penhasco, a recompensa é -100. O episódio termina quando o agente chega em G ou cai no penhasco. Naturalmente, o objetivo é chegar em G o mais rapidamente possível para maximizar sua recompensa.\n",
        "\n",
        "![alt text](https://i.imgur.com/2IobMYw.png)\n",
        "\n",
        "Para utilizar este ambiente com o Gym, basta executar o comando abaixo."
      ]
    },
    {
      "cell_type": "code",
      "metadata": {
        "id": "W8P45uBUDAVP"
      },
      "source": [
        "cliff_env = gym.make('CliffWalking-v0')"
      ],
      "execution_count": 37,
      "outputs": []
    },
    {
      "cell_type": "markdown",
      "metadata": {
        "id": "EzlqJPiSkRZc"
      },
      "source": [
        "O ambiente pode ser reiniciado com a função `reset`. Podemos imprimir o estado atual do ambiente com a função `render`."
      ]
    },
    {
      "cell_type": "code",
      "metadata": {
        "id": "Cjwr4HuAEUYs",
        "outputId": "11637567-530e-4129-9dc6-88c1127f15ed",
        "colab": {
          "base_uri": "https://localhost:8080/"
        }
      },
      "source": [
        "cliff_env.reset()\n",
        "cliff_env.render()"
      ],
      "execution_count": 38,
      "outputs": [
        {
          "output_type": "stream",
          "name": "stdout",
          "text": [
            "o  o  o  o  o  o  o  o  o  o  o  o\n",
            "o  o  o  o  o  o  o  o  o  o  o  o\n",
            "o  o  o  o  o  o  o  o  o  o  o  o\n",
            "x  C  C  C  C  C  C  C  C  C  C  T\n",
            "\n"
          ]
        }
      ]
    },
    {
      "cell_type": "markdown",
      "metadata": {
        "id": "EWTJ6qo4kaV3"
      },
      "source": [
        "O código abaixo implementa o algoritmo Q-learning. O pseudocódigo do Q-learning é apresentado abaixo.\n",
        "\n",
        "![alt text](https://i.imgur.com/9yydGca.png)\n",
        "\n",
        "Em nossa implementação, o algoritmo recebe um ambiente, uma quantidade de episódios, além dos parâmetros usuais $\\alpha$ (taxa de aprendizado), $\\gamma$ (taxa de desconto) e $\\epsilon$ (taxa de exploração)."
      ]
    },
    {
      "cell_type": "code",
      "metadata": {
        "id": "3tl0fPgLe-SI"
      },
      "source": [
        "def Qlearning(environment, num_episodes=100, alpha=0.3, gamma=0.9, epsilon=1.0, decay_epsilon=0.1, max_epsilon=1.0, min_epsilon=0.01):\n",
        "  \n",
        "  # initializing the Q-table\n",
        "  Q = np.zeros((environment.observation_space.n, environment.action_space.n))\n",
        "\n",
        "  # additional lists to keep track of reward and epsilon values\n",
        "  rewards = []\n",
        "  epsilons = []\n",
        "\n",
        "  # episodes\n",
        "  for episode in range(num_episodes):\n",
        "      \n",
        "      # reset the environment to start a new episode\n",
        "      state = environment.reset()\n",
        "\n",
        "      # reward accumulated along episode\n",
        "      accumulated_reward = 0\n",
        "      \n",
        "      # steps within current episode\n",
        "      for step in range(100):\n",
        "          \n",
        "          # epsilon-greedy action selection\n",
        "          # exploit with probability 1-epsilon\n",
        "          if np.random.uniform(0, 1) > epsilon:\n",
        "              action = np.argmax(Q[state,:])\n",
        "              \n",
        "          # explore with probability epsilon\n",
        "          else:\n",
        "              action = environment.action_space.sample()\n",
        "              \n",
        "          # perform the action and observe the new state and corresponding reward\n",
        "          new_state, reward, done, info = environment.step(action)\n",
        "          \n",
        "\n",
        "          # update the Q-table\n",
        "          Q[state, action] = Q[state, action] + alpha * (reward + gamma * np.max(Q[new_state, :]) - Q[state, action])\n",
        "          \n",
        "          # update the accumulated reward\n",
        "          accumulated_reward += reward\n",
        "\n",
        "          # update the current state\n",
        "          state = new_state\n",
        "          \n",
        "          # end the episode when it is done\n",
        "          if done == True:\n",
        "              break\n",
        "      \n",
        "      # decay exploration rate to ensure that the agent exploits more as it becomes experienced\n",
        "      epsilon = min_epsilon + (max_epsilon - min_epsilon)*np.exp(-decay_epsilon*episode)\n",
        "      \n",
        "      # update the lists of rewards and epsilons\n",
        "      rewards.append(accumulated_reward)\n",
        "      epsilons.append(epsilon)\n",
        "\n",
        "  # render the environment\n",
        "  environment.render()\n",
        "    \n",
        "  # return the list of accumulated reward along episodes\n",
        "  return rewards"
      ],
      "execution_count": 39,
      "outputs": []
    },
    {
      "cell_type": "markdown",
      "metadata": {
        "id": "uSu4puVhlWla"
      },
      "source": [
        "Para utilizar o Q-learning, basta chamá-lo como segue. No exemplo abaixo, vamos executar o algoritmo por 100 episódios. Ao final, calculamos a recompensa média total (ao longo de todos episódios) e a final (ao longo dos últimos 10 episódios)."
      ]
    },
    {
      "cell_type": "code",
      "metadata": {
        "id": "RRVJ9mxs9d7n",
        "outputId": "8aed1691-a0ef-465d-e97d-7c0b359a3137",
        "colab": {
          "base_uri": "https://localhost:8080/"
        }
      },
      "source": [
        "num_episodes=100\n",
        "alpha=0.3\n",
        "gamma=0.9\n",
        "epsilon=1.0\n",
        "decay_epsilon=0.1\n",
        "\n",
        "# run Q-learning\n",
        "rewards = Qlearning(cliff_env, num_episodes, alpha, gamma, epsilon, decay_epsilon)\n",
        "\n",
        "# print results\n",
        "print (\"Average reward (all episodes): \" + str(sum(rewards)/num_episodes))\n",
        "print (\"Average reward (last 10 episodes): \" + str(sum(rewards[-10:])/10))"
      ],
      "execution_count": 40,
      "outputs": [
        {
          "output_type": "stream",
          "name": "stdout",
          "text": [
            "o  o  o  o  o  o  o  o  o  o  o  o\n",
            "o  o  o  o  o  o  o  o  o  o  o  o\n",
            "o  o  o  o  o  o  o  o  o  o  o  o\n",
            "o  C  C  C  C  C  C  C  C  C  C  x\n",
            "\n",
            "Average reward (all episodes): -116.6\n",
            "Average reward (last 10 episodes): -13.2\n"
          ]
        }
      ]
    },
    {
      "cell_type": "markdown",
      "metadata": {
        "id": "IdEkMFeYlqiw"
      },
      "source": [
        "Para avaliar o desempenho do algoritmo, podemos criar um gráfico da recompensa total por episódio."
      ]
    },
    {
      "cell_type": "code",
      "metadata": {
        "id": "Lw_qVDcsvkQK",
        "outputId": "5ef73c8d-7834-4587-f35e-f9ecbe010ca2",
        "colab": {
          "base_uri": "https://localhost:8080/",
          "height": 279
        }
      },
      "source": [
        "plt.plot(range(num_episodes), rewards)\n",
        "plt.xlabel('Episodes')\n",
        "plt.ylabel('Accumulated reward along episodes')\n",
        "plt.show()"
      ],
      "execution_count": 6,
      "outputs": [
        {
          "output_type": "display_data",
          "data": {
            "text/plain": [
              "<Figure size 432x288 with 1 Axes>"
            ],
            "image/png": "[encoded data removed]"
          },
          "metadata": {
            "needs_background": "light"
          }
        }
      ]
    },
    {
      "cell_type": "markdown",
      "metadata": {
        "id": "oi6QnK8zE64F"
      },
      "source": [
        "Com base no gráfico acima, podemos observar que o algoritmo converge para uma recompensa próxima de zero. Considerando que a recompensa máxima neste ambiente é -13, podemos dizer que o algoritmo convergiu para uma política próxima da ótima."
      ]
    },
    {
      "cell_type": "markdown",
      "metadata": {
        "id": "y1qS3Km_39s_"
      },
      "source": [
        "## Parte 2 - Deep Q-Networks"
      ]
    },
    {
      "cell_type": "markdown",
      "metadata": {
        "id": "s2oWOTDEmmNg"
      },
      "source": [
        "Neste exemplo, implementaremos o algoritmo de aprendizado por reforço profundo chamado Deep Q-Networks (DQN). \n",
        "\n",
        "Para começar, o código abaixo importa uma série de bibliotecas para facilitar nosso trabalho. Basta executar."
      ]
    },
    {
      "cell_type": "code",
      "metadata": {
        "id": "qLkDRMVd3-BU",
        "outputId": "087c55af-62ed-49b2-9d6f-c0616fb3d428",
        "colab": {
          "base_uri": "https://localhost:8080/"
        }
      },
      "source": [
        "#@title Executar (configurações básicas)\n",
        "\n",
        "#remove \" > /dev/null 2>&1\" to see what is going on under the hood\n",
        "!pip install gym pyvirtualdisplay > /dev/null 2>&1\n",
        "!apt-get install -y xvfb python-opengl ffmpeg > /dev/null 2>&1\n",
        "\n",
        "!apt-get update > /dev/null 2>&1\n",
        "!apt-get install cmake > /dev/null 2>&1\n",
        "!pip install --upgrade setuptools 2>&1\n",
        "!pip install ez_setup > /dev/null 2>&1\n",
        "!pip install gym[atari] > /dev/null 2>&1\n",
        "\n",
        "import gym\n",
        "from gym import logger as gymlogger\n",
        "from gym.wrappers import Monitor\n",
        "gymlogger.set_level(40) #error only\n",
        "import tensorflow as tf\n",
        "import numpy as np\n",
        "import random\n",
        "import matplotlib\n",
        "import matplotlib.pyplot as plt\n",
        "%matplotlib inline\n",
        "import math\n",
        "import glob\n",
        "import io\n",
        "import base64\n",
        "from IPython.display import HTML\n",
        "\n",
        "from IPython import display as ipythondisplay\n",
        "\n",
        "from pyvirtualdisplay import Display\n",
        "display = Display(visible=0, size=(800, 600))\n",
        "display.start()\n",
        "\n",
        "\"\"\"\n",
        "Utility functions to enable video recording of gym environment and displaying it\n",
        "To enable video, just do \"env = wrap_env(env)\"\"\n",
        "\"\"\"\n",
        "def show_video_short():\n",
        "  mp4list = glob.glob('video/*.mp4')\n",
        "  if len(mp4list) > 0:\n",
        "    mp4 = mp4list[0]\n",
        "    video = io.open(mp4, 'r+b').read()\n",
        "    encoded = base64.b64encode(video)\n",
        "    ipythondisplay.display(HTML(data='''<video alt=\"test\" autoplay \n",
        "                loop controls style=\"height: 300px;\">\n",
        "                <source src=\"data:video/mp4;base64,{0}\" type=\"video/mp4\" />\n",
        "             </video>'''.format(encoded.decode('ascii'))))\n",
        "  else: \n",
        "    print(\"Could not find video\")\n",
        "    \n",
        "\n",
        "def wrap_env(env):\n",
        "  env = Monitor(env, './video', force=True)\n",
        "  return env"
      ],
      "execution_count": 1,
      "outputs": [
        {
          "output_type": "stream",
          "name": "stdout",
          "text": [
            "Looking in indexes: https://pypi.org/simple, https://us-python.pkg.dev/colab-wheels/public/simple/\n",
            "Requirement already satisfied: setuptools in /usr/local/lib/python3.7/dist-packages (62.3.2)\n"
          ]
        }
      ]
    },
    {
      "cell_type": "markdown",
      "metadata": {
        "id": "jk7tscZxqyHr"
      },
      "source": [
        "Neste exemplo, utilizaremos o ambiente `CartPole-v0` [link](https://www.gymlibrary.ml/environments/classic_control/cart_pole/). Neste ambiente, existe um carrinho com um poste disposto verticalmente em cima de si, mas caindo para um dos lados (aleatoriamente). Nosso objetivo é mover o carrinho para a esquerda e/ou direita para tentar equilibrar o poste.\n",
        "\n",
        "Para importar este ambiente, basta executar o código abaixo."
      ]
    },
    {
      "cell_type": "code",
      "metadata": {
        "id": "cwi2rbza3-mD"
      },
      "source": [
        "env = wrap_env(gym.make('CartPole-v0'))"
      ],
      "execution_count": 2,
      "outputs": []
    },
    {
      "cell_type": "markdown",
      "metadata": {
        "id": "_WkXuXp_rjag"
      },
      "source": [
        "O código abaixo facilita o entendimento da dinâmica do ambiente. A cada passo, devemos escoher uma ação e então executá-la no ambiente (usando a função `step`). Ao executar a ação, observamos um novo estado, uma recompensa e outras informações extras. No caso do CartPole-v0, o episódio termina quando o carrinho sair da área de visão ou quando o poste inclinar-se mais do que 15 graus para qualquer lado."
      ]
    },
    {
      "cell_type": "code",
      "metadata": {
        "id": "Hl8wuimGre8g",
        "outputId": "2db03bee-872b-4cc6-ba52-77d7ac9f7984",
        "colab": {
          "base_uri": "https://localhost:8080/",
          "height": 321
        }
      },
      "source": [
        "env.reset()\n",
        "while True:\n",
        "    env.render( )\n",
        "    obs, reward, done, info = env.step(env.action_space.sample()) # take a random action\n",
        "    if done:\n",
        "      break\n",
        "\n",
        "env.close()\n",
        "show_video_short()"
      ],
      "execution_count": 3,
      "outputs": [
        {
          "output_type": "display_data",
          "data": {
            "text/plain": [
              "<IPython.core.display.HTML object>"
            ],
            "text/html": [
              "<video alt=\"test\" autoplay \n",
              "                loop controls style=\"height: 300px;\">\n",
              "                <source src=\"data:video/mp4;base64,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\" type=\"video/mp4\" />\n",
              "             </video>"
            ]
          },
          "metadata": {}
        }
      ]
    },
    {
      "cell_type": "markdown",
      "metadata": {
        "id": "bTjNdNXksRFh"
      },
      "source": [
        "Agora podemos implementar o algoritmo DQN. Nossa implementação é baseada [neste post](https://towardsdatascience.com/deep-reinforcement-learning-build-a-deep-q-network-dqn-to-play-cartpole-with-tensorflow-2-and-gym-8e105744b998)."
      ]
    },
    {
      "cell_type": "code",
      "metadata": {
        "id": "_qw_kqFwYth0"
      },
      "source": [
        "import numpy as np\n",
        "import tensorflow as tf\n",
        "import gym\n",
        "import os\n",
        "import datetime\n",
        "from statistics import mean\n",
        "\n",
        "\n",
        "class MyModel(tf.keras.Model):\n",
        "    def __init__(self, num_states, hidden_units, num_actions):\n",
        "        super(MyModel, self).__init__()\n",
        "        self.input_layer = tf.keras.layers.InputLayer(input_shape=(num_states,))\n",
        "        self.hidden_layers = []\n",
        "        for i in hidden_units:\n",
        "            self.hidden_layers.append(tf.keras.layers.Dense(\n",
        "                i, activation='tanh', kernel_initializer='RandomNormal'))\n",
        "        self.output_layer = tf.keras.layers.Dense(\n",
        "            num_actions, activation='linear', kernel_initializer='RandomNormal')\n",
        "\n",
        "    @tf.function\n",
        "    def call(self, inputs):\n",
        "        z = self.input_layer(inputs)\n",
        "        for layer in self.hidden_layers:\n",
        "            z = layer(z)\n",
        "        output = self.output_layer(z)\n",
        "        return output\n",
        "\n",
        "\n",
        "class DQN:\n",
        "    def __init__(self, num_states, num_actions, hidden_units, gamma, max_experiences, min_experiences, batch_size, lr):\n",
        "        self.num_actions = num_actions\n",
        "        self.batch_size = batch_size\n",
        "        self.optimizer = tf.optimizers.Adam(lr)\n",
        "        self.gamma = gamma\n",
        "        self.model = MyModel(num_states, hidden_units, num_actions)\n",
        "        self.experience = {'s': [], 'a': [], 'r': [], 's2': [], 'done': []}\n",
        "        self.max_experiences = max_experiences\n",
        "        self.min_experiences = min_experiences\n",
        "\n",
        "    def predict(self, inputs):\n",
        "        return self.model(np.atleast_2d(inputs.astype('float32')))\n",
        "\n",
        "    def train(self, TargetNet):\n",
        "        if len(self.experience['s']) < self.min_experiences:\n",
        "            return 0\n",
        "        ids = np.random.randint(low=0, high=len(self.experience['s']), size=self.batch_size)\n",
        "        states = np.asarray([self.experience['s'][i] for i in ids])\n",
        "        actions = np.asarray([self.experience['a'][i] for i in ids])\n",
        "        rewards = np.asarray([self.experience['r'][i] for i in ids])\n",
        "        states_next = np.asarray([self.experience['s2'][i] for i in ids])\n",
        "        dones = np.asarray([self.experience['done'][i] for i in ids])\n",
        "        value_next = np.max(TargetNet.predict(states_next), axis=1)\n",
        "        actual_values = np.where(dones, rewards, rewards+self.gamma*value_next)\n",
        "\n",
        "        with tf.GradientTape() as tape:\n",
        "            selected_action_values = tf.math.reduce_sum(\n",
        "                self.predict(states) * tf.one_hot(actions, self.num_actions), axis=1)\n",
        "            loss = tf.math.reduce_mean(tf.square(actual_values - selected_action_values))\n",
        "        variables = self.model.trainable_variables\n",
        "        gradients = tape.gradient(loss, variables)\n",
        "        self.optimizer.apply_gradients(zip(gradients, variables))\n",
        "        return loss\n",
        "\n",
        "    def get_action(self, states, epsilon):\n",
        "        if np.random.random() < epsilon:\n",
        "            return np.random.choice(self.num_actions)\n",
        "        else:\n",
        "            return np.argmax(self.predict(np.atleast_2d(states))[0])\n",
        "\n",
        "    def add_experience(self, exp):\n",
        "        if len(self.experience['s']) >= self.max_experiences:\n",
        "            for key in self.experience.keys():\n",
        "                self.experience[key].pop(0)\n",
        "        for key, value in exp.items():\n",
        "            self.experience[key].append(value)\n",
        "\n",
        "    def copy_weights(self, TrainNet):\n",
        "        variables1 = self.model.trainable_variables\n",
        "        variables2 = TrainNet.model.trainable_variables\n",
        "        for v1, v2 in zip(variables1, variables2):\n",
        "            v1.assign(v2.numpy())\n",
        "\n",
        "\n",
        "def play_game(env, TrainNet, TargetNet, epsilon, copy_step):\n",
        "    rewards = 0\n",
        "    iter = 0\n",
        "    done = False\n",
        "    observations = env.reset()\n",
        "    losses = list()\n",
        "    while not done:\n",
        "        action = TrainNet.get_action(observations, epsilon)\n",
        "        prev_observations = observations\n",
        "        observations, reward, done, _ = env.step(action)\n",
        "        rewards += reward\n",
        "        if done:\n",
        "            reward = -200\n",
        "            env.reset()\n",
        "\n",
        "        exp = {'s': prev_observations, 'a': action, 'r': reward, 's2': observations, 'done': done}\n",
        "        TrainNet.add_experience(exp)\n",
        "        loss = TrainNet.train(TargetNet)\n",
        "        if isinstance(loss, int):\n",
        "            losses.append(loss)\n",
        "        else:\n",
        "            losses.append(loss.numpy())\n",
        "        iter += 1\n",
        "        if iter % copy_step == 0:\n",
        "            TargetNet.copy_weights(TrainNet)\n",
        "    return rewards, mean(losses)\n",
        "\n",
        "def show_video(env, TrainNet):\n",
        "  # generate video\n",
        "  env = Monitor(env, os.path.join(os.getcwd(), \"videos\"), force=True)\n",
        "  rewards = 0\n",
        "  steps = 0\n",
        "  done = False\n",
        "  observation = env.reset()\n",
        "  while not done:\n",
        "      env.render()\n",
        "      action = TrainNet.get_action(observation, 0)\n",
        "      observation, reward, done, _ = env.step(action)\n",
        "      steps += 1\n",
        "      rewards += reward\n",
        "  env.close()\n",
        "  print(\"Testing steps: {} rewards {}: \".format(steps, rewards))\n",
        "  \n",
        "  # display video\n",
        "  mp4list = glob.glob('videos/*.mp4')\n",
        "  if len(mp4list) > 0:\n",
        "    mp4 = mp4list[0]\n",
        "    video = io.open(mp4, 'r+b').read()\n",
        "    encoded = base64.b64encode(video)\n",
        "    ipythondisplay.display(HTML(data='''<video alt=\"test\" autoplay \n",
        "                loop controls style=\"height: 300px;\">\n",
        "                <source src=\"data:video/mp4;base64,{0}\" type=\"video/mp4\" />\n",
        "             </video>'''.format(encoded.decode('ascii'))))\n",
        "  else: \n",
        "    print(\"Could not find video\")"
      ],
      "execution_count": 4,
      "outputs": []
    },
    {
      "cell_type": "markdown",
      "metadata": {
        "id": "qq1mbY9duNbW"
      },
      "source": [
        "O código abaixo treina o DQN no ambiente `CarPole-v0`. Cuidado, pode demorar bastante para executar."
      ]
    },
    {
      "cell_type": "code",
      "metadata": {
        "id": "r_609Ahzexn4"
      },
      "source": [
        "env = gym.make('CartPole-v0')\n",
        "gamma = 0.99\n",
        "copy_step = 25\n",
        "num_states = len(env.observation_space.sample())\n",
        "num_actions = env.action_space.n\n",
        "hidden_units = [200, 200]\n",
        "max_experiences = 10000\n",
        "min_experiences = 100\n",
        "batch_size = 32\n",
        "lr = 1e-2\n",
        "current_time = datetime.datetime.now().strftime(\"%Y%m%d-%H%M%S\")\n",
        "log_dir = 'logs/dqn/' + current_time\n",
        "summary_writer = tf.summary.create_file_writer(log_dir)\n",
        "\n",
        "TrainNet = DQN(num_states, num_actions, hidden_units, gamma, max_experiences, min_experiences, batch_size, lr)\n",
        "TargetNet = DQN(num_states, num_actions, hidden_units, gamma, max_experiences, min_experiences, batch_size, lr)\n",
        "N = 10000\n",
        "total_rewards = np.empty(N)\n",
        "epsilon = 0.99\n",
        "decay = 0.9999\n",
        "min_epsilon = 0.1\n",
        "for n in range(N):\n",
        "    epsilon = max(min_epsilon, epsilon * decay)\n",
        "    total_reward, losses = play_game(env, TrainNet, TargetNet, epsilon, copy_step)\n",
        "    total_rewards[n] = total_reward\n",
        "    avg_rewards = total_rewards[max(0, n - 100):(n + 1)].mean()\n",
        "    with summary_writer.as_default():\n",
        "        tf.summary.scalar('episode reward', total_reward, step=n)\n",
        "        tf.summary.scalar('running avg reward(100)', avg_rewards, step=n)\n",
        "        tf.summary.scalar('average loss)', losses, step=n)\n",
        "    if n % 100 == 0:\n",
        "        print(\"episode:\", n, \"episode reward:\", total_reward, \"eps:\", epsilon, \"avg reward (last 100):\", avg_rewards,\n",
        "              \"episode loss: \", losses)\n",
        "print(\"avg reward for last 100 episodes:\", avg_rewards)"
      ],
      "execution_count": null,
      "outputs": []
    },
    {
      "cell_type": "markdown",
      "metadata": {
        "id": "QmwiyeK9ueUg"
      },
      "source": [
        "Finalmente, podemos ver o resultado gerando um vídeo da execução do algoritmo treinado no ambiente."
      ]
    },
    {
      "cell_type": "code",
      "metadata": {
        "id": "2p2eOgWvgp_6",
        "outputId": "c41fe5c4-4315-48bf-a866-9e1cd2515773",
        "colab": {
          "base_uri": "https://localhost:8080/",
          "height": 359
        }
      },
      "source": [
        "show_video(env, TrainNet)"
      ],
      "execution_count": null,
      "outputs": [
        {
          "output_type": "stream",
          "text": [
            "Testing steps: 89 rewards 89.0: \n"
          ],
          "name": "stdout"
        },
        {
          "output_type": "display_data",
          "data": {
            "text/html": [
              "<video alt=\"test\" autoplay \n",
              "                loop controls style=\"height: 300px;\">\n",
              "                <source src=\"data:video/mp4;base64,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\" type=\"video/mp4\" />\n",
              "             </video>"
            ],
            "text/plain": [
              "<IPython.core.display.HTML object>"
            ]
          },
          "metadata": {
            "tags": []
          }
        }
      ]
    },
    {
      "cell_type": "markdown",
      "metadata": {
        "id": "ULy5FGr_uoSU"
      },
      "source": [
        "Note que o resultado não é muito satisfatório. Para melhorar o resultado, é preciso ajustar os hiper-parâmetros do algoritmo e treiná-lo novamente."
      ]
    },
    {
      "cell_type": "markdown",
      "metadata": {
        "id": "a8wK-o4gMBUs"
      },
      "source": [
        "## Exercícios"
      ]
    },
    {
      "cell_type": "markdown",
      "metadata": {
        "id": "GARK4PZu_tve"
      },
      "source": [
        "### Exercício 1\n",
        "\n",
        "Ajuste os parâmetros do algoritmo Q-learning para obter melhores resultados. Em seguida, rode o algoritmo com a melhor política aprendida, ou seja, escolhendo as ações de forma gulosa."
      ]
    },
    {
      "cell_type": "markdown",
      "source": [
        "Aumentando os número de episódios e o parâmetro alpha o desempenho é melhorado."
      ],
      "metadata": {
        "id": "krUk0u2pzDDk"
      }
    },
    {
      "cell_type": "code",
      "metadata": {
        "id": "vCvkVPfHAGks",
        "colab": {
          "base_uri": "https://localhost:8080/"
        },
        "outputId": "17278b7b-b4dd-407e-facd-b61887c514c8"
      },
      "source": [
        "num_episodes=200\n",
        "alpha=0.5\n",
        "gamma=0.9\n",
        "epsilon=1.0\n",
        "decay_epsilon=0.1\n",
        "\n",
        "# run Q-learning\n",
        "rewards = Qlearning(cliff_env, num_episodes, alpha, gamma, epsilon, decay_epsilon)\n",
        "\n",
        "# print results\n",
        "print (\"Average reward (all episodes): \" + str(sum(rewards)/num_episodes))\n",
        "print (\"Average reward (last 10 episodes): \" + str(sum(rewards[-10:])/10))"
      ],
      "execution_count": 24,
      "outputs": [
        {
          "output_type": "stream",
          "name": "stdout",
          "text": [
            "o  o  o  o  o  o  o  o  o  o  o  o\n",
            "o  o  o  o  o  o  o  o  o  o  o  o\n",
            "o  o  o  o  o  o  o  o  o  o  o  o\n",
            "o  C  C  C  C  C  C  C  C  C  C  x\n",
            "\n",
            "Average reward (all episodes): -63.07\n",
            "Average reward (last 10 episodes): -13.3\n"
          ]
        }
      ]
    },
    {
      "cell_type": "code",
      "source": [
        "plt.plot(range(num_episodes), rewards)\n",
        "plt.xlabel('Episodes')\n",
        "plt.ylabel('Accumulated reward along episodes')\n",
        "plt.show()"
      ],
      "metadata": {
        "colab": {
          "base_uri": "https://localhost:8080/",
          "height": 279
        },
        "id": "DpnU_c1lzc-z",
        "outputId": "4a9815b1-ae75-475f-8eee-c5b29053af71"
      },
      "execution_count": 41,
      "outputs": [
        {
          "output_type": "display_data",
          "data": {
            "text/plain": [
              "<Figure size 432x288 with 1 Axes>"
            ],
            "image/png": "[encoded data removed]"
          },
          "metadata": {
            "needs_background": "light"
          }
        }
      ]
    },
    {
      "cell_type": "markdown",
      "metadata": {
        "id": "lXPiNQjg_ty1"
      },
      "source": [
        "### Exercício 2 (extra)\n",
        "\n",
        "Ajuste os parâmetros do algoritmo DQN para obter melhores resultados no ambiente `CartPole-v0`."
      ]
    },
    {
      "cell_type": "code",
      "metadata": {
        "id": "xs07YUPiAJKp",
        "colab": {
          "base_uri": "https://localhost:8080/"
        },
        "outputId": "f40496e6-f846-42a2-82c3-d311fc54f9b7"
      },
      "source": [
        "env = gym.make('CartPole-v0')\n",
        "gamma = 0.999\n",
        "copy_step = 25\n",
        "num_states = len(env.observation_space.sample())\n",
        "num_actions = env.action_space.n\n",
        "hidden_units = [200, 200]\n",
        "max_experiences = 10000\n",
        "min_experiences = 100\n",
        "batch_size = 128\n",
        "lr = 1e-2\n",
        "current_time = datetime.datetime.now().strftime(\"%Y%m%d-%H%M%S\")\n",
        "log_dir = 'logs/dqn/' + current_time\n",
        "summary_writer = tf.summary.create_file_writer(log_dir)\n",
        "\n",
        "TrainNet = DQN(num_states, num_actions, hidden_units, gamma, max_experiences, min_experiences, batch_size, lr)\n",
        "TargetNet = DQN(num_states, num_actions, hidden_units, gamma, max_experiences, min_experiences, batch_size, lr)\n",
        "N = 10000\n",
        "total_rewards = np.empty(N)\n",
        "epsilon = 0.9\n",
        "decay = 200\n",
        "min_epsilon = 1.0\n",
        "for n in range(N):\n",
        "    epsilon = max(min_epsilon, epsilon * decay)\n",
        "    total_reward, losses = play_game(env, TrainNet, TargetNet, epsilon, copy_step)\n",
        "    total_rewards[n] = total_reward\n",
        "    avg_rewards = total_rewards[max(0, n - 100):(n + 1)].mean()\n",
        "    with summary_writer.as_default():\n",
        "        tf.summary.scalar('episode reward', total_reward, step=n)\n",
        "        tf.summary.scalar('running avg reward(100)', avg_rewards, step=n)\n",
        "        tf.summary.scalar('average loss)', losses, step=n)\n",
        "    if n % 100 == 0:\n",
        "        print(\"episode:\", n, \"episode reward:\", total_reward, \"eps:\", epsilon, \"avg reward (last 100):\", avg_rewards,\n",
        "              \"episode loss: \", losses)\n",
        "print(\"avg reward for last 100 episodes:\", avg_rewards)"
      ],
      "execution_count": 6,
      "outputs": [
        {
          "output_type": "stream",
          "name": "stdout",
          "text": [
            "episode: 0 episode reward: 11.0 eps: 180.0 avg reward (last 100): 11.0 episode loss:  0\n",
            "episode: 100 episode reward: 16.0 eps: 2.2817710804108116e+232 avg reward (last 100): 22.019801980198018 episode loss:  76.2756\n",
            "episode: 200 episode reward: 27.0 eps: inf avg reward (last 100): 21.702970297029704 episode loss:  73.88757\n",
            "episode: 300 episode reward: 16.0 eps: inf avg reward (last 100): 24.405940594059405 episode loss:  69.75513\n",
            "episode: 400 episode reward: 32.0 eps: inf avg reward (last 100): 21.336633663366335 episode loss:  147.57957\n",
            "episode: 500 episode reward: 11.0 eps: inf avg reward (last 100): 21.623762376237625 episode loss:  117.58608\n",
            "episode: 600 episode reward: 27.0 eps: inf avg reward (last 100): 22.396039603960396 episode loss:  646.0461\n",
            "episode: 700 episode reward: 30.0 eps: inf avg reward (last 100): 19.782178217821784 episode loss:  155.23718\n",
            "episode: 800 episode reward: 30.0 eps: inf avg reward (last 100): 21.792079207920793 episode loss:  287.7146\n",
            "episode: 900 episode reward: 59.0 eps: inf avg reward (last 100): 21.297029702970296 episode loss:  203.313\n",
            "episode: 1000 episode reward: 55.0 eps: inf avg reward (last 100): 22.247524752475247 episode loss:  284.05814\n",
            "episode: 1100 episode reward: 37.0 eps: inf avg reward (last 100): 22.356435643564357 episode loss:  104.70932\n",
            "episode: 1200 episode reward: 23.0 eps: inf avg reward (last 100): 22.316831683168317 episode loss:  601.09863\n",
            "episode: 1300 episode reward: 13.0 eps: inf avg reward (last 100): 22.316831683168317 episode loss:  120.97504\n",
            "episode: 1400 episode reward: 16.0 eps: inf avg reward (last 100): 21.475247524752476 episode loss:  492.59567\n",
            "episode: 1500 episode reward: 20.0 eps: inf avg reward (last 100): 22.435643564356436 episode loss:  482.55432\n",
            "episode: 1600 episode reward: 15.0 eps: inf avg reward (last 100): 21.07920792079208 episode loss:  443.9959\n",
            "episode: 1700 episode reward: 12.0 eps: inf avg reward (last 100): 22.207920792079207 episode loss:  366.86142\n",
            "episode: 1800 episode reward: 17.0 eps: inf avg reward (last 100): 21.92079207920792 episode loss:  453.50284\n",
            "episode: 1900 episode reward: 14.0 eps: inf avg reward (last 100): 21.683168316831683 episode loss:  385.98068\n",
            "episode: 2000 episode reward: 32.0 eps: inf avg reward (last 100): 21.475247524752476 episode loss:  949.77374\n",
            "episode: 2100 episode reward: 17.0 eps: inf avg reward (last 100): 22.594059405940595 episode loss:  615.67487\n",
            "episode: 2200 episode reward: 24.0 eps: inf avg reward (last 100): 22.415841584158414 episode loss:  819.75665\n",
            "episode: 2300 episode reward: 12.0 eps: inf avg reward (last 100): 20.18811881188119 episode loss:  1748.259\n",
            "episode: 2400 episode reward: 23.0 eps: inf avg reward (last 100): 22.277227722772277 episode loss:  587.4465\n",
            "episode: 2500 episode reward: 23.0 eps: inf avg reward (last 100): 21.356435643564357 episode loss:  1094.0465\n",
            "episode: 2600 episode reward: 16.0 eps: inf avg reward (last 100): 21.99009900990099 episode loss:  1079.1995\n",
            "episode: 2700 episode reward: 17.0 eps: inf avg reward (last 100): 22.73267326732673 episode loss:  809.70807\n",
            "episode: 2800 episode reward: 36.0 eps: inf avg reward (last 100): 24.14851485148515 episode loss:  1408.4323\n",
            "episode: 2900 episode reward: 25.0 eps: inf avg reward (last 100): 21.396039603960396 episode loss:  891.73193\n",
            "episode: 3000 episode reward: 22.0 eps: inf avg reward (last 100): 22.207920792079207 episode loss:  903.45886\n",
            "episode: 3100 episode reward: 16.0 eps: inf avg reward (last 100): 21.99009900990099 episode loss:  1829.955\n",
            "episode: 3200 episode reward: 29.0 eps: inf avg reward (last 100): 21.336633663366335 episode loss:  656.42426\n",
            "episode: 3300 episode reward: 24.0 eps: inf avg reward (last 100): 20.386138613861387 episode loss:  862.06805\n",
            "episode: 3400 episode reward: 28.0 eps: inf avg reward (last 100): 22.405940594059405 episode loss:  720.8279\n",
            "episode: 3500 episode reward: 19.0 eps: inf avg reward (last 100): 24.633663366336634 episode loss:  970.00146\n",
            "episode: 3600 episode reward: 9.0 eps: inf avg reward (last 100): 22.99009900990099 episode loss:  1603.5292\n",
            "episode: 3700 episode reward: 19.0 eps: inf avg reward (last 100): 22.683168316831683 episode loss:  1156.9397\n",
            "episode: 3800 episode reward: 18.0 eps: inf avg reward (last 100): 23.08910891089109 episode loss:  1555.7916\n",
            "episode: 3900 episode reward: 21.0 eps: inf avg reward (last 100): 22.019801980198018 episode loss:  1942.8748\n",
            "episode: 4000 episode reward: 20.0 eps: inf avg reward (last 100): 22.356435643564357 episode loss:  2394.8315\n",
            "episode: 4100 episode reward: 14.0 eps: inf avg reward (last 100): 22.821782178217823 episode loss:  2076.8318\n",
            "episode: 4200 episode reward: 21.0 eps: inf avg reward (last 100): 21.89108910891089 episode loss:  938.6701\n",
            "episode: 4300 episode reward: 13.0 eps: inf avg reward (last 100): 22.73267326732673 episode loss:  2076.4744\n",
            "episode: 4400 episode reward: 29.0 eps: inf avg reward (last 100): 20.574257425742573 episode loss:  2002.6526\n",
            "episode: 4500 episode reward: 22.0 eps: inf avg reward (last 100): 21.03960396039604 episode loss:  1470.7091\n",
            "episode: 4600 episode reward: 30.0 eps: inf avg reward (last 100): 20.89108910891089 episode loss:  1732.9607\n",
            "episode: 4700 episode reward: 14.0 eps: inf avg reward (last 100): 22.653465346534652 episode loss:  655.3722\n",
            "episode: 4800 episode reward: 27.0 eps: inf avg reward (last 100): 21.782178217821784 episode loss:  1990.5449\n",
            "episode: 4900 episode reward: 18.0 eps: inf avg reward (last 100): 21.81188118811881 episode loss:  1100.1296\n",
            "episode: 5000 episode reward: 22.0 eps: inf avg reward (last 100): 21.564356435643564 episode loss:  1170.6035\n",
            "episode: 5100 episode reward: 25.0 eps: inf avg reward (last 100): 22.346534653465348 episode loss:  1194.6954\n",
            "episode: 5200 episode reward: 9.0 eps: inf avg reward (last 100): 22.88118811881188 episode loss:  3029.5955\n",
            "episode: 5300 episode reward: 18.0 eps: inf avg reward (last 100): 22.584158415841586 episode loss:  1679.4376\n",
            "episode: 5400 episode reward: 12.0 eps: inf avg reward (last 100): 23.495049504950494 episode loss:  1513.2089\n",
            "episode: 5500 episode reward: 31.0 eps: inf avg reward (last 100): 22.861386138613863 episode loss:  1275.5212\n",
            "episode: 5600 episode reward: 27.0 eps: inf avg reward (last 100): 20.871287128712872 episode loss:  1612.735\n",
            "episode: 5700 episode reward: 32.0 eps: inf avg reward (last 100): 22.396039603960396 episode loss:  783.16003\n",
            "episode: 5800 episode reward: 23.0 eps: inf avg reward (last 100): 22.792079207920793 episode loss:  1699.1527\n",
            "episode: 5900 episode reward: 18.0 eps: inf avg reward (last 100): 22.22772277227723 episode loss:  1447.7944\n",
            "episode: 6000 episode reward: 15.0 eps: inf avg reward (last 100): 21.99009900990099 episode loss:  1113.6621\n",
            "episode: 6100 episode reward: 22.0 eps: inf avg reward (last 100): 21.633663366336634 episode loss:  2319.7827\n",
            "episode: 6200 episode reward: 10.0 eps: inf avg reward (last 100): 21.792079207920793 episode loss:  1953.9316\n",
            "episode: 6300 episode reward: 13.0 eps: inf avg reward (last 100): 21.89108910891089 episode loss:  2866.4404\n",
            "episode: 6400 episode reward: 19.0 eps: inf avg reward (last 100): 20.425742574257427 episode loss:  928.83234\n",
            "episode: 6500 episode reward: 20.0 eps: inf avg reward (last 100): 19.792079207920793 episode loss:  758.572\n",
            "episode: 6600 episode reward: 13.0 eps: inf avg reward (last 100): 22.900990099009903 episode loss:  1566.4158\n",
            "episode: 6700 episode reward: 17.0 eps: inf avg reward (last 100): 21.405940594059405 episode loss:  1179.4015\n",
            "episode: 6800 episode reward: 22.0 eps: inf avg reward (last 100): 21.495049504950494 episode loss:  1512.6771\n",
            "episode: 6900 episode reward: 16.0 eps: inf avg reward (last 100): 21.316831683168317 episode loss:  1389.4839\n",
            "episode: 7000 episode reward: 20.0 eps: inf avg reward (last 100): 22.574257425742573 episode loss:  1810.2976\n",
            "episode: 7100 episode reward: 14.0 eps: inf avg reward (last 100): 21.544554455445546 episode loss:  1014.73376\n",
            "episode: 7200 episode reward: 9.0 eps: inf avg reward (last 100): 21.297029702970296 episode loss:  814.2038\n",
            "episode: 7300 episode reward: 10.0 eps: inf avg reward (last 100): 22.326732673267326 episode loss:  1413.3171\n",
            "episode: 7400 episode reward: 26.0 eps: inf avg reward (last 100): 20.97029702970297 episode loss:  5838.4175\n",
            "episode: 7500 episode reward: 45.0 eps: inf avg reward (last 100): 20.89108910891089 episode loss:  2041.4802\n",
            "episode: 7600 episode reward: 18.0 eps: inf avg reward (last 100): 21.653465346534652 episode loss:  844.0141\n",
            "episode: 7700 episode reward: 16.0 eps: inf avg reward (last 100): 20.099009900990097 episode loss:  6093.7\n",
            "episode: 7800 episode reward: 12.0 eps: inf avg reward (last 100): 20.97029702970297 episode loss:  3738.2764\n",
            "episode: 7900 episode reward: 29.0 eps: inf avg reward (last 100): 22.18811881188119 episode loss:  1119.9493\n",
            "episode: 8000 episode reward: 17.0 eps: inf avg reward (last 100): 21.18811881188119 episode loss:  1272.5054\n",
            "episode: 8100 episode reward: 19.0 eps: inf avg reward (last 100): 24.346534653465348 episode loss:  2376.3674\n",
            "episode: 8200 episode reward: 14.0 eps: inf avg reward (last 100): 23.871287128712872 episode loss:  1619.0973\n",
            "episode: 8300 episode reward: 19.0 eps: inf avg reward (last 100): 22.26732673267327 episode loss:  2900.5876\n",
            "episode: 8400 episode reward: 19.0 eps: inf avg reward (last 100): 24.683168316831683 episode loss:  959.45593\n",
            "episode: 8500 episode reward: 29.0 eps: inf avg reward (last 100): 20.752475247524753 episode loss:  2388.45\n",
            "episode: 8600 episode reward: 16.0 eps: inf avg reward (last 100): 23.742574257425744 episode loss:  2790.7524\n",
            "episode: 8700 episode reward: 15.0 eps: inf avg reward (last 100): 22.435643564356436 episode loss:  1775.6293\n",
            "episode: 8800 episode reward: 14.0 eps: inf avg reward (last 100): 20.10891089108911 episode loss:  1488.0215\n",
            "episode: 8900 episode reward: 12.0 eps: inf avg reward (last 100): 20.247524752475247 episode loss:  3658.795\n",
            "episode: 9000 episode reward: 8.0 eps: inf avg reward (last 100): 22.257425742574256 episode loss:  1707.1891\n",
            "episode: 9100 episode reward: 18.0 eps: inf avg reward (last 100): 23.376237623762375 episode loss:  4095.7056\n",
            "episode: 9200 episode reward: 16.0 eps: inf avg reward (last 100): 23.495049504950494 episode loss:  1292.0168\n",
            "episode: 9300 episode reward: 14.0 eps: inf avg reward (last 100): 23.594059405940595 episode loss:  3680.5654\n",
            "episode: 9400 episode reward: 23.0 eps: inf avg reward (last 100): 21.257425742574256 episode loss:  2673.5242\n",
            "episode: 9500 episode reward: 14.0 eps: inf avg reward (last 100): 23.217821782178216 episode loss:  7720.4536\n",
            "episode: 9600 episode reward: 16.0 eps: inf avg reward (last 100): 20.683168316831683 episode loss:  1310.6683\n",
            "episode: 9700 episode reward: 20.0 eps: inf avg reward (last 100): 21.26732673267327 episode loss:  3355.4124\n",
            "episode: 9800 episode reward: 23.0 eps: inf avg reward (last 100): 22.465346534653467 episode loss:  1643.7214\n",
            "episode: 9900 episode reward: 20.0 eps: inf avg reward (last 100): 20.712871287128714 episode loss:  2445.8926\n",
            "avg reward for last 100 episodes: 23.673267326732674\n"
          ]
        }
      ]
    }
  ]
}